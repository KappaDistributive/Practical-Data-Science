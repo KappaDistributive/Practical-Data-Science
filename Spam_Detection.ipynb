{
  "nbformat": 4,
  "nbformat_minor": 0,
  "metadata": {
    "colab": {
      "name": "Spam_Detection.ipynb",
      "provenance": [],
      "authorship_tag": "ABX9TyMqdf73CYn4m8q+hFNqFk6v",
      "include_colab_link": true
    },
    "kernelspec": {
      "name": "python3",
      "display_name": "Python 3"
    }
  },
  "cells": [
    {
      "cell_type": "markdown",
      "metadata": {
        "id": "view-in-github",
        "colab_type": "text"
      },
      "source": [
        "<a href=\"https://colab.research.google.com/github/KappaDistributive/Practical-Data-Science/blob/develop/Spam_Detection.ipynb\" target=\"_parent\"><img src=\"https://colab.research.google.com/assets/colab-badge.svg\" alt=\"Open In Colab\"/></a>"
      ]
    },
    {
      "cell_type": "markdown",
      "metadata": {
        "id": "rZk0Khdvctph",
        "colab_type": "text"
      },
      "source": [
        "# Import Packages"
      ]
    },
    {
      "cell_type": "code",
      "metadata": {
        "id": "0XtIPwHycz_i",
        "colab_type": "code",
        "colab": {}
      },
      "source": [
        "import pandas as pd"
      ],
      "execution_count": 0,
      "outputs": []
    },
    {
      "cell_type": "markdown",
      "metadata": {
        "id": "K_v6ycl3cS_p",
        "colab_type": "text"
      },
      "source": [
        "# Obtain Data\n",
        "\n",
        "Google Colab has a couple of nice features built-in that allows us to easily download our training data for spam detection from the author's website. Note that the following are Google Colab specific 'magic methdos' that won't work in any arbitrary Jupyter notebook."
      ]
    },
    {
      "cell_type": "code",
      "metadata": {
        "id": "GcJe65INaIgI",
        "colab_type": "code",
        "colab": {
          "base_uri": "https://localhost:8080/",
          "height": 284
        },
        "outputId": "24f5f787-e325-4d0c-a739-fbb14782a92e"
      },
      "source": [
        "!wget https://archive.ics.uci.edu/ml/machine-learning-databases/00228/smsspamcollection.zip\n",
        "!unzip smsspamcollection.zip\n",
        "!mv SMSSpamCollection SMSSpamCollection.tsv\n",
        "!mv readme readme.txt"
      ],
      "execution_count": 15,
      "outputs": [
        {
          "output_type": "stream",
          "text": [
            "--2020-02-20 11:59:13--  https://archive.ics.uci.edu/ml/machine-learning-databases/00228/smsspamcollection.zip\n",
            "Resolving archive.ics.uci.edu (archive.ics.uci.edu)... 128.195.10.252\n",
            "Connecting to archive.ics.uci.edu (archive.ics.uci.edu)|128.195.10.252|:443... connected.\n",
            "HTTP request sent, awaiting response... 200 OK\n",
            "Length: 203415 (199K) [application/x-httpd-php]\n",
            "Saving to: ‘smsspamcollection.zip.1’\n",
            "\n",
            "\rsmsspamcollection.z   0%[                    ]       0  --.-KB/s               \rsmsspamcollection.z 100%[===================>] 198.65K   996KB/s    in 0.2s    \n",
            "\n",
            "2020-02-20 11:59:14 (996 KB/s) - ‘smsspamcollection.zip.1’ saved [203415/203415]\n",
            "\n",
            "Archive:  smsspamcollection.zip\n",
            "  inflating: SMSSpamCollection       \n",
            "replace readme? [y]es, [n]o, [A]ll, [N]one, [r]ename: A\n",
            "  inflating: readme                  \n"
          ],
          "name": "stdout"
        }
      ]
    },
    {
      "cell_type": "markdown",
      "metadata": {
        "id": "e6f00IqceqFJ",
        "colab_type": "text"
      },
      "source": [
        "# Data Exploration\n",
        "\n",
        "(Don't worry about the weird way in which we open and read the file here -- it turns out to be slightly corrupted.)"
      ]
    },
    {
      "cell_type": "code",
      "metadata": {
        "id": "SOjb2-IXbfR3",
        "colab_type": "code",
        "colab": {
          "base_uri": "https://localhost:8080/",
          "height": 1000
        },
        "outputId": "7555469f-8454-4187-b8b9-81dc67205d92"
      },
      "source": [
        "with open('readme.txt', 'rb') as f:\n",
        "    print(f.read().decode('utf-8', 'ignore'))"
      ],
      "execution_count": 20,
      "outputs": [
        {
          "output_type": "stream",
          "text": [
            "SMS Spam Collection v.1\r\n",
            "-------------------------\r\n",
            "\r\n",
            "1. DESCRIPTION\r\n",
            "--------------\r\n",
            "\r\n",
            "The SMS Spam Collection v.1 (hereafter the corpus) is a set of SMS tagged messages that have been collected for SMS Spam research. It contains one set of SMS messages in English of 5,574 messages, tagged acording being ham (legitimate) or spam. \r\n",
            "\r\n",
            "1.1. Compilation\r\n",
            "----------------\r\n",
            "\r\n",
            "This corpus has been collected from free or free for research sources at the Web:\r\n",
            "\r\n",
            "- A collection of between 425 SMS spam messages extracted manually from the Grumbletext Web site. This is a UK forum in which cell phone users make public claims about SMS spam messages, most of them without reporting the very spam message received. The identification of the text of spam messages in the claims is a very hard and time-consuming task, and it involved carefully scanning hundreds of web pages. The Grumbletext Web site is: http://www.grumbletext.co.uk/\r\n",
            "- A list of 450 SMS ham messages collected from Caroline Tag's PhD Theses available at http://etheses.bham.ac.uk/253/1/Tagg09PhD.pdf\r\n",
            "- A subset of 3,375 SMS ham messages of the NUS SMS Corpus (NSC), which is a corpus of about 10,000 legitimate messages collected for research at the Department of Computer Science at the National University of Singapore. The messages largely originate from Singaporeans and mostly from students attending the University. These messages were collected from volunteers who were made aware that their contributions were going to be made publicly available. The NUS SMS Corpus is avalaible at: http://www.comp.nus.edu.sg/~rpnlpir/downloads/corpora/smsCorpus/\r\n",
            "- The amount of 1,002 SMS ham messages and 322 spam messages extracted from the SMS Spam Corpus v.0.1 Big created by Jos Mara Gmez Hidalgo and public available at: http://www.esp.uem.es/jmgomez/smsspamcorpus/\r\n",
            "\r\n",
            "\r\n",
            "1.2. Statistics\r\n",
            "---------------\r\n",
            "\r\n",
            "There is one collection:\r\n",
            "\r\n",
            "- The SMS Spam Collection v.1 (text file: smsspamcollection) has a total of 4,827 SMS legitimate messages (86.6%) and a total of 747 (13.4%) spam messages.\r\n",
            "\r\n",
            "\r\n",
            "1.3. Format\r\n",
            "-----------\r\n",
            "\r\n",
            "The files contain one message per line. Each line is composed by two columns: one with label (ham or spam) and other with the raw text. Here are some examples:\r\n",
            "\r\n",
            "ham   What you doing?how are you?\r\n",
            "ham   Ok lar... Joking wif u oni...\r\n",
            "ham   dun say so early hor... U c already then say...\r\n",
            "ham   MY NO. IN LUTON 0125698789 RING ME IF UR AROUND! H*\r\n",
            "ham   Siva is in hostel aha:-.\r\n",
            "ham   Cos i was out shopping wif darren jus now n i called him 2 ask wat present he wan lor. Then he started guessing who i was wif n he finally guessed darren lor.\r\n",
            "spam   FreeMsg: Txt: CALL to No: 86888 & claim your reward of 3 hours talk time to use from your phone now! ubscribe6GBP/ mnth inc 3hrs 16 stop?txtStop\r\n",
            "spam   Sunshine Quiz! Win a super Sony DVD recorder if you canname the capital of Australia? Text MQUIZ to 82277. B\r\n",
            "spam   URGENT! Your Mobile No 07808726822 was awarded a L2,000 Bonus Caller Prize on 02/09/03! This is our 2nd attempt to contact YOU! Call 0871-872-9758 BOX95QU\r\n",
            "\r\n",
            "Note: messages are not chronologically sorted.\r\n",
            "\r\n",
            "\r\n",
            "2. USAGE\r\n",
            "--------\r\n",
            "\r\n",
            "We offer a comprehensive study of this corpus in the following paper that is under review. This work presents a number of statistics, studies and baseline results for several machine learning methods.\r\n",
            "\r\n",
            "[1] Almeida, T.A., Gmez Hidalgo, J.M., Yamakami, A. Contributions to the study of SMS Spam Filtering: New Collection and Results. Proceedings of the 2011 ACM Symposium on Document Engineering (ACM DOCENG'11), Mountain View, CA, USA, 2011. (Under review)\r\n",
            "\r\n",
            "\r\n",
            "3. ABOUT\r\n",
            "--------\r\n",
            "\r\n",
            "The corpus has been collected by Tiago Agostinho de Almeida (http://www.dt.fee.unicamp.br/~tiago) and Jos Mara Gmez Hidalgo (http://www.esp.uem.es/jmgomez).\r\n",
            "\r\n",
            "We would like to thank Dr. Min-Yen Kan (http://www.comp.nus.edu.sg/~kanmy/) and his team for making the NUS SMS Corpus available. See: http://www.comp.nus.edu.sg/~rpnlpir/downloads/corpora/smsCorpus/. He is currently collecting a bigger SMS corpus at: http://wing.comp.nus.edu.sg:8080/SMSCorpus/\r\n",
            "\r\n",
            "4. LICENSE/DISCLAIMER\r\n",
            "---------------------\r\n",
            "\r\n",
            "We would appreciate if:\r\n",
            "\r\n",
            "- In case you find this corpus useful, please make a reference to previous paper and the web page: http://www.dt.fee.unicamp.br/~tiago/smsspamcollection/ in your papers, research, etc.\r\n",
            "- Send us a message to tiago@dt.fee.unicamp.br in case you make use of the corpus.\r\n",
            "\r\n",
            "The SMS Spam Collection v.1 is provided for free and with no limitations excepting:\r\n",
            "\r\n",
            "1. Tiago Agostinho de Almeida and Jos Mara Gmez Hidalgo hold the copyrigth (c) for the SMS Spam Collection v.1.\r\n",
            "\r\n",
            "2. No Warranty/Use At Your Risk. THE CORPUS IS MADE AT NO CHARGE. ACCORDINGLY, THE CORPUS IS PROVIDED `AS IS,' WITHOUT WARRANTY OF ANY KIND, INCLUDING WITHOUT LIMITATION THE WARRANTIES THAT THEY ARE MERCHANTABLE, FIT FOR A PARTICULAR PURPOSE OR NON-INFRINGING. YOU ARE SOLELY RESPONSIBLE FOR YOUR USE, DISTRIBUTION, MODIFICATION, REPRODUCTION AND PUBLICATION OF THE CORPUS AND ANY DERIVATIVE WORKS THEREOF BY YOU AND ANY OF YOUR SUBLICENSEES (COLLECTIVELY, `YOUR CORPUS USE'). THE ENTIRE RISK AS TO YOUR CORPUS USE IS BORNE BY YOU. YOU AGREE TO INDEMNIFY AND HOLD THE COPYRIGHT HOLDERS, AND THEIR AFFILIATES HARMLESS FROM ANY CLAIMS ARISING FROM OR RELATING TO YOUR CORPUS USE.\r\n",
            "\r\n",
            "3. Limitation of Liability. IN NO EVENT SHALL THE COPYRIGHT HOLDERS OR THEIR AFFILIATES, OR THE CORPUS CONTRIBUTING EDITORS, BE LIABLE FOR ANY INDIRECT, SPECIAL, INCIDENTAL OR CONSEQUENTIAL DAMAGES, INCLUDING, WITHOUT LIMITATION, DAMAGES FOR LOSS OF GOODWILL OR ANY AND ALL OTHER COMMERCIAL DAMAGES OR LOSSES, EVEN IF ADVISED OF THE POSSIBILITY THEREOF, AND REGARDLESS OF WHETHER ANY CLAIM IS BASED UPON ANY CONTRACT, TORT OR OTHER LEGAL OR EQUITABLE THEORY, RELATING OR ARISING FROM THE CORPUS, YOUR CORPUS USE OR THIS LICENSE AGREEMENT.\r\n",
            "\n"
          ],
          "name": "stdout"
        }
      ]
    },
    {
      "cell_type": "markdown",
      "metadata": {
        "id": "FUCiFVZAe6Dd",
        "colab_type": "text"
      },
      "source": [
        "According the the readme, our data contains 4827 non-spam SMS messagees and 747 spam SMS messages for a total of 5574 SMS messages.\n",
        "\n",
        "The data is tab seperated, each line represents a data point with the first column containing the label and the second column containing the actual message.\n",
        "\n",
        "Our first job is to verify this:"
      ]
    },
    {
      "cell_type": "code",
      "metadata": {
        "id": "rrIxl6d0jXhE",
        "colab_type": "code",
        "colab": {}
      },
      "source": [
        "# Your code goes here:\n"
      ],
      "execution_count": 0,
      "outputs": []
    },
    {
      "cell_type": "code",
      "metadata": {
        "id": "fPjxPmAMfd6Q",
        "colab_type": "code",
        "colab": {
          "base_uri": "https://localhost:8080/",
          "height": 319
        },
        "outputId": "7f40491b-1bcc-41a6-982d-661c6b2c0d58"
      },
      "source": [
        "#@title Sample Solution { display-mode: \"form\" }\n",
        "raw_data = pd.read_csv('SMSSpamCollection.tsv', sep='\\t', header=None, names=['label', 'message'])\n",
        "\n",
        "# Your code goes here\n",
        "print(f'Raw data shape: {raw_data.shape}\\n')\n",
        "\n",
        "print('Raw data head:')\n",
        "print(raw_data.head())\n",
        "print('\\n')\n",
        "\n",
        "print(f'Unique labels: {raw_data[\"label\"].unique()}\\n')\n",
        "\n",
        "print(f'Label distribution: {raw_data[\"label\"].value_counts()}\\n')"
      ],
      "execution_count": 46,
      "outputs": [
        {
          "output_type": "stream",
          "text": [
            "Raw data shape: (5572, 2)\n",
            "\n",
            "Raw data head:\n",
            "  label                                            message\n",
            "0   ham  Go until jurong point, crazy.. Available only ...\n",
            "1   ham                      Ok lar... Joking wif u oni...\n",
            "2  spam  Free entry in 2 a wkly comp to win FA Cup fina...\n",
            "3   ham  U dun say so early hor... U c already then say...\n",
            "4   ham  Nah I don't think he goes to usf, he lives aro...\n",
            "\n",
            "\n",
            "Unique labels: ['ham' 'spam']\n",
            "\n",
            "Label distribution: ham     4825\n",
            "spam     747\n",
            "Name: label, dtype: int64\n",
            "\n"
          ],
          "name": "stdout"
        }
      ]
    },
    {
      "cell_type": "code",
      "metadata": {
        "id": "m7OlYdg-f6Q_",
        "colab_type": "code",
        "colab": {}
      },
      "source": [
        ""
      ],
      "execution_count": 0,
      "outputs": []
    }
  ]
}