{
  "nbformat": 4,
  "nbformat_minor": 0,
  "metadata": {
    "colab": {
      "name": "Untitled1.ipynb",
      "provenance": [],
      "include_colab_link": true
    },
    "kernelspec": {
      "name": "python3",
      "display_name": "Python 3"
    }
  },
  "cells": [
    {
      "cell_type": "markdown",
      "metadata": {
        "id": "view-in-github",
        "colab_type": "text"
      },
      "source": [
        "<a href=\"https://colab.research.google.com/github/KappaDistributive/Practical-Data-Science/blob/develop/Introduction.ipynb\" target=\"_parent\"><img src=\"https://colab.research.google.com/assets/colab-badge.svg\" alt=\"Open In Colab\"/></a>"
      ]
    },
    {
      "cell_type": "markdown",
      "metadata": {
        "id": "SW2xRsZVoUea",
        "colab_type": "text"
      },
      "source": [
        "# Practical Data Science 101\n",
        "by Stefan Mesken."
      ]
    },
    {
      "cell_type": "markdown",
      "metadata": {
        "id": "zR8yIkFRN_sf",
        "colab_type": "text"
      },
      "source": [
        "## Introduction\n",
        "\n",
        "This is an interactive, introductory course to the field of data science, with strong emphasis on practical applications of machine learning."
      ]
    },
    {
      "cell_type": "markdown",
      "metadata": {
        "id": "q_hdXUxp1YTc",
        "colab_type": "text"
      },
      "source": [
        "## Target Audience\n",
        "\n",
        "Anyone able to use these notebooks and write some code in Python will be able to benefit from this course.\n",
        "\n",
        "While our focus lies with this group of beginners, we'll also allow more experienced programmers and data scientist to try their hands on advanced methods.\n",
        "\n",
        "By the end of this course, you will be able to create and use your own machine learning models. In the procress, you will furthermore \n",
        "develop a better understanding of the requirements and challenges that data scientists face in their daily work.\n"
      ]
    },
    {
      "cell_type": "markdown",
      "metadata": {
        "id": "cGMzglZ0NqAD",
        "colab_type": "text"
      },
      "source": [
        "## Syllabus\n",
        "1. What is Data Science?\n",
        "2. What is Machine Learning?\n",
        "3. Examples of Applied Machine Learning"
      ]
    },
    {
      "cell_type": "markdown",
      "metadata": {
        "id": "aCWA6RkFnWvI",
        "colab_type": "text"
      },
      "source": [
        "## What is Data Science?\n",
        "\n",
        "Data Science is a field of study somewhere in the intersection of computer science, mathematics and statistic that aims to leverage scientific methods to extract value from existing data.\n",
        "\n",
        "As such, it plays a central role in all of our daily lifes. Prominent examples of applied data science include, in no particular order,\n",
        "\n",
        "- weather forecasts,\n",
        "- risk assesments of insurance companies,\n",
        "- personalized advertisements,\n",
        "- spam filtering,\n",
        "- travel time estimations (found in most modern navigation systems),\n",
        "- voice assistants / chatbots,\n",
        "- sentiment analysis,\n",
        "- image enhancement,\n",
        "- recommender systems,\n",
        "- machine translation,\n",
        "- advanced driver-assistance systems,\n",
        "- facial recognition,\n",
        "- active noise reduction,\n",
        "- computer-guided diagnostics in medicine, \n",
        "- ...\n",
        "\n",
        "There are also a lot of novel, quite exotic ML models for\n",
        "\n",
        "- style transfers (e.g. creating new paintings in the style of Van Gogh),\n",
        "- artificial music composition and text generation,\n",
        "- creating and detection of 'deep fakes' (for voice, photo and video),\n",
        "- automated colouring of greyscale images and films,\n",
        "- creating moving images from pictures,\n",
        "- ...\n",
        "\n",
        "In its current form, data science can roughly been divided into the following subcategories:\n",
        "\n",
        "- Data Mining\n",
        "- Analytics\n",
        "- Statistical Methods\n",
        "- Machine Learning\n",
        "\n",
        "In this course, we will heavily focus on the last category -- machine learning [1].\n",
        "\n",
        "\n",
        "[1]: The keen observer may be wondering why the term 'Artificial Intelligence' does not appear on this list.\n",
        "\n",
        "This is indeed a fair question, given that artificial intelligence is the main buzzword associated with data science in the media. \n",
        "However, it is the author's opinion that no reasonable defintion of artificial intelligence has been achieved at the time of this writing and, consequently, that this category doesn't yet exist. If this doesn't seem satisfactory, feel free to use the terms artificial intelligence and machine learning synonymously for the purposes of this course. Though, I'd advise you not to. For more information, see ['On the Measure of Intelligence' by François Chollet](https://arxiv.org/abs/1911.01547).\n",
        "\n"
      ]
    },
    {
      "cell_type": "markdown",
      "metadata": {
        "id": "Atlo4gcDt2ty",
        "colab_type": "text"
      },
      "source": [
        "## What is Machine Learning?\n",
        "\n",
        "In 1959 Arthur Samuel coined the term Machine Learning to describe the systematic study of algorithms and models that can be adopted ('trained') to complete a specific task without being explicitly told how to do so. As a subcategory of data science, machine learning itself is a collection of related fields:\n",
        "\n",
        "- Supervised Learning,\n",
        "- Unsupervised Learning,\n",
        "- Reinforcement Learning,\n",
        "- Self Learning,\n",
        "- Federated Learning,\n",
        "- ...\n",
        "\n",
        "Supervised and unsupervised learning are the subjects that we shall focus on. And to begin with that, let's look at a few examples of machine learning models created with these techniques."
      ]
    },
    {
      "cell_type": "markdown",
      "metadata": {
        "id": "QnbeMPQe0kBC",
        "colab_type": "text"
      },
      "source": [
        "## Examples of Applied Machine Learning"
      ]
    },
    {
      "cell_type": "markdown",
      "metadata": {
        "id": "HielzbdK7Xae",
        "colab_type": "text"
      },
      "source": [
        "### Optical Character Recognition (OCR)\n",
        "\n",
        "No introductory course in machine learning is complete without a demonstration of optical character recognition, i.e. the translation of images of (handwritten) characters into machine-encoded text.\n",
        "\n",
        "This task lies in the golden intersections of problems that are very hard to solve with traditional algorithms yet almost trivial to solve with machine learning models. Let's look at a simple end-to-end implementation of OCR:"
      ]
    },
    {
      "cell_type": "markdown",
      "metadata": {
        "id": "qdbUnIClNTpa",
        "colab_type": "text"
      },
      "source": [
        "#### Data Mining\n",
        "The first step of any machine learning project is to obtain data that can be used to train and evaluate models.\n",
        "\n",
        "In this particular case we are lucky. Someone else has done all the heavy lifting for us and provided a nice API to load the MNIST dataset with -- a collection of 28x28 pixel images of human-written, arabic numerals (i.e. the characters 0 to 9 we are all familiar with)."
      ]
    },
    {
      "cell_type": "code",
      "metadata": {
        "id": "yjBk7T4g7b6h",
        "colab_type": "code",
        "colab": {}
      },
      "source": [
        "# import some Python packages we'll need\n",
        "from matplotlib import pyplot as plt\n",
        "import numpy as np\n",
        "import seaborn as sns\n",
        "import sklearn\n",
        "\n",
        "# load the MNIST dataset\n",
        "X, y = sklearn.datasets.openml.fetch_openml('mnist_784', version=1, return_X_y=True)"
      ],
      "execution_count": 0,
      "outputs": []
    },
    {
      "cell_type": "markdown",
      "metadata": {
        "id": "Goc6TVfhOugG",
        "colab_type": "text"
      },
      "source": [
        "#### Data Analysis\n",
        "\n",
        "Next, we need to understand what kind of data we are dealing with. This can, in practice, be a complex task but here we are again in the fortunate position that the data is presented very nicely to us. Let's have a look."
      ]
    },
    {
      "cell_type": "code",
      "metadata": {
        "id": "53nsCCmhPFh0",
        "colab_type": "code",
        "outputId": "f0850a44-ea3f-4928-dbe6-d42cb7708336",
        "colab": {
          "base_uri": "https://localhost:8080/",
          "height": 85
        }
      },
      "source": [
        "print(f'Type of X: {type(X)}')\n",
        "print(f'Shape of X: {X.shape}')\n",
        "print(f'Type of y: {type(y)}')\n",
        "print(f'Shape of y: {y.shape}')"
      ],
      "execution_count": 61,
      "outputs": [
        {
          "output_type": "stream",
          "text": [
            "Type of X: <class 'numpy.ndarray'>\n",
            "Shape of X: (70000, 784)\n",
            "Type of y: <class 'numpy.ndarray'>\n",
            "Shape of y: (70000,)\n"
          ],
          "name": "stdout"
        }
      ]
    },
    {
      "cell_type": "markdown",
      "metadata": {
        "id": "qeCCd7FxPeTq",
        "colab_type": "text"
      },
      "source": [
        "So X,y are Numpy arrays. With y being a 1-dimensional array (just a list of numbers) and X being a 2-dimensional array -- a list of lists of numbers.\n",
        "\n",
        "If we look closer, we see that y contains value 0..9"
      ]
    },
    {
      "cell_type": "code",
      "metadata": {
        "id": "In5fseu7P3L7",
        "colab_type": "code",
        "outputId": "e0f2fb2b-3f66-4c67-a124-01d130e7e619",
        "colab": {
          "base_uri": "https://localhost:8080/",
          "height": 34
        }
      },
      "source": [
        "print(f'Distinct values of y: {np.unique(y)}')"
      ],
      "execution_count": 62,
      "outputs": [
        {
          "output_type": "stream",
          "text": [
            "Distinct values of y: ['0' '1' '2' '3' '4' '5' '6' '7' '8' '9']\n"
          ],
          "name": "stdout"
        }
      ]
    },
    {
      "cell_type": "markdown",
      "metadata": {
        "id": "toyw3AQKQEX3",
        "colab_type": "text"
      },
      "source": [
        "These are the so-called labels of our dataset. y[i] = n means that the i-th image in X (we'll get to that shortly) shows the number n.\n",
        "\n",
        "Having labels available is what makes this task a supervised learning problem.\n",
        "\n",
        "But what does X contain exactly?\n",
        "\n",
        "If you haven't encountered the MNIST dataset before, hop over to [the documentation](https://www.openml.org/d/554) and have a look. Each row of X represents a 28x28 pixel image. Which makes sense since X.shape[1] = 784 = 28 * 28. But images are 2-dimensional, so what's going on?\n",
        "\n",
        "As you can see in the documentation, the images have been flattened. Instead of representing each image as a 2-dimensional array of 28 rows with 28 columns each, all the rows have been concatenated into one long row.\n",
        "\n",
        "This is convenient when working with machine learning models (as we will see shortly) but not so convenient when trying to recognize them with our human brains. So let's create a human-friendly copy:"
      ]
    },
    {
      "cell_type": "code",
      "metadata": {
        "id": "jzNjZG_NRWAd",
        "colab_type": "code",
        "colab": {
          "base_uri": "https://localhost:8080/",
          "height": 34
        },
        "outputId": "19a15adf-7762-44c2-ccbe-cf9eb25b04a4"
      },
      "source": [
        "X_pretty = np.reshape(X, newshape=(-1, 28, 28))\n",
        "print(f'Shape of X_pretty: {X_pretty.shape}')"
      ],
      "execution_count": 63,
      "outputs": [
        {
          "output_type": "stream",
          "text": [
            "Shape of X_pretty: (70000, 28, 28)\n"
          ],
          "name": "stdout"
        }
      ]
    },
    {
      "cell_type": "markdown",
      "metadata": {
        "id": "BzJGIZPpUe-V",
        "colab_type": "text"
      },
      "source": [
        "This now allows us to easily view the entries of X_pretty as images. Feel free to play around with see and see what else X_pretty contains."
      ]
    },
    {
      "cell_type": "code",
      "metadata": {
        "id": "ufQ59BujSAba",
        "colab_type": "code",
        "outputId": "7319a13b-65a6-458a-f5ff-6985968abc34",
        "colab": {
          "base_uri": "https://localhost:8080/",
          "height": 282
        }
      },
      "source": [
        "sns.heatmap(X_pretty[0])"
      ],
      "execution_count": 64,
      "outputs": [
        {
          "output_type": "execute_result",
          "data": {
            "text/plain": [
              "<matplotlib.axes._subplots.AxesSubplot at 0x7fe1c7455f98>"
            ]
          },
          "metadata": {
            "tags": []
          },
          "execution_count": 64
        },
        {
          "output_type": "display_data",
          "data": {
            "image/png": "[encoded data removed]",
            "text/plain": [
              "<Figure size 432x288 with 2 Axes>"
            ]
          },
          "metadata": {
            "tags": []
          }
        }
      ]
    },
    {
      "cell_type": "markdown",
      "metadata": {
        "id": "qTXc1niqVmMs",
        "colab_type": "text"
      },
      "source": [
        "Also note the range of X. The plot above already gives a hint that its values range from 0 to somewhere in the 250s and that higher values represent ink marks. A closer look reveils that the actual range is [0, 255]. This is important to keep in mind."
      ]
    },
    {
      "cell_type": "code",
      "metadata": {
        "id": "7j_gaQdmVz8b",
        "colab_type": "code",
        "outputId": "024466d9-2284-450e-f7af-86dc3de1ed97",
        "colab": {
          "base_uri": "https://localhost:8080/",
          "height": 340
        }
      },
      "source": [
        "print(f'Distinct values of X: {np.unique(X)}')"
      ],
      "execution_count": 65,
      "outputs": [
        {
          "output_type": "stream",
          "text": [
            "Distinct values of X: [  0.   1.   2.   3.   4.   5.   6.   7.   8.   9.  10.  11.  12.  13.\n",
            "  14.  15.  16.  17.  18.  19.  20.  21.  22.  23.  24.  25.  26.  27.\n",
            "  28.  29.  30.  31.  32.  33.  34.  35.  36.  37.  38.  39.  40.  41.\n",
            "  42.  43.  44.  45.  46.  47.  48.  49.  50.  51.  52.  53.  54.  55.\n",
            "  56.  57.  58.  59.  60.  61.  62.  63.  64.  65.  66.  67.  68.  69.\n",
            "  70.  71.  72.  73.  74.  75.  76.  77.  78.  79.  80.  81.  82.  83.\n",
            "  84.  85.  86.  87.  88.  89.  90.  91.  92.  93.  94.  95.  96.  97.\n",
            "  98.  99. 100. 101. 102. 103. 104. 105. 106. 107. 108. 109. 110. 111.\n",
            " 112. 113. 114. 115. 116. 117. 118. 119. 120. 121. 122. 123. 124. 125.\n",
            " 126. 127. 128. 129. 130. 131. 132. 133. 134. 135. 136. 137. 138. 139.\n",
            " 140. 141. 142. 143. 144. 145. 146. 147. 148. 149. 150. 151. 152. 153.\n",
            " 154. 155. 156. 157. 158. 159. 160. 161. 162. 163. 164. 165. 166. 167.\n",
            " 168. 169. 170. 171. 172. 173. 174. 175. 176. 177. 178. 179. 180. 181.\n",
            " 182. 183. 184. 185. 186. 187. 188. 189. 190. 191. 192. 193. 194. 195.\n",
            " 196. 197. 198. 199. 200. 201. 202. 203. 204. 205. 206. 207. 208. 209.\n",
            " 210. 211. 212. 213. 214. 215. 216. 217. 218. 219. 220. 221. 222. 223.\n",
            " 224. 225. 226. 227. 228. 229. 230. 231. 232. 233. 234. 235. 236. 237.\n",
            " 238. 239. 240. 241. 242. 243. 244. 245. 246. 247. 248. 249. 250. 251.\n",
            " 252. 253. 254. 255.]\n"
          ],
          "name": "stdout"
        }
      ]
    },
    {
      "cell_type": "markdown",
      "metadata": {
        "id": "ZIoCfsExSAu0",
        "colab_type": "text"
      },
      "source": [
        "#### Data Preparation"
      ]
    },
    {
      "cell_type": "markdown",
      "metadata": {
        "id": "PJi-qnFQWWEC",
        "colab_type": "text"
      },
      "source": [
        "For technical reasons that have to do with how exactly machine learning models learn, it is better to scale down the values of X, so that they fall into the interval [0, 1]. We achieve this by dividing each entry by 255, the maximum value of X."
      ]
    },
    {
      "cell_type": "code",
      "metadata": {
        "id": "jTLqWlklWmCp",
        "colab_type": "code",
        "outputId": "e0936c66-7a17-4773-f45b-80050495d79f",
        "colab": {
          "base_uri": "https://localhost:8080/",
          "height": 765
        }
      },
      "source": [
        "X_scaled = X / 255\n",
        "print(f'Shape of X_scaled: {X_scaled.shape}')\n",
        "print(f'Distinct values of X_scaled: {np.unique(X_scaled)}')"
      ],
      "execution_count": 66,
      "outputs": [
        {
          "output_type": "stream",
          "text": [
            "Shape of X_scaled: (70000, 784)\n",
            "Distinct values of X_scaled: [0.         0.00392157 0.00784314 0.01176471 0.01568627 0.01960784\n",
            " 0.02352941 0.02745098 0.03137255 0.03529412 0.03921569 0.04313725\n",
            " 0.04705882 0.05098039 0.05490196 0.05882353 0.0627451  0.06666667\n",
            " 0.07058824 0.0745098  0.07843137 0.08235294 0.08627451 0.09019608\n",
            " 0.09411765 0.09803922 0.10196078 0.10588235 0.10980392 0.11372549\n",
            " 0.11764706 0.12156863 0.1254902  0.12941176 0.13333333 0.1372549\n",
            " 0.14117647 0.14509804 0.14901961 0.15294118 0.15686275 0.16078431\n",
            " 0.16470588 0.16862745 0.17254902 0.17647059 0.18039216 0.18431373\n",
            " 0.18823529 0.19215686 0.19607843 0.2        0.20392157 0.20784314\n",
            " 0.21176471 0.21568627 0.21960784 0.22352941 0.22745098 0.23137255\n",
            " 0.23529412 0.23921569 0.24313725 0.24705882 0.25098039 0.25490196\n",
            " 0.25882353 0.2627451  0.26666667 0.27058824 0.2745098  0.27843137\n",
            " 0.28235294 0.28627451 0.29019608 0.29411765 0.29803922 0.30196078\n",
            " 0.30588235 0.30980392 0.31372549 0.31764706 0.32156863 0.3254902\n",
            " 0.32941176 0.33333333 0.3372549  0.34117647 0.34509804 0.34901961\n",
            " 0.35294118 0.35686275 0.36078431 0.36470588 0.36862745 0.37254902\n",
            " 0.37647059 0.38039216 0.38431373 0.38823529 0.39215686 0.39607843\n",
            " 0.4        0.40392157 0.40784314 0.41176471 0.41568627 0.41960784\n",
            " 0.42352941 0.42745098 0.43137255 0.43529412 0.43921569 0.44313725\n",
            " 0.44705882 0.45098039 0.45490196 0.45882353 0.4627451  0.46666667\n",
            " 0.47058824 0.4745098  0.47843137 0.48235294 0.48627451 0.49019608\n",
            " 0.49411765 0.49803922 0.50196078 0.50588235 0.50980392 0.51372549\n",
            " 0.51764706 0.52156863 0.5254902  0.52941176 0.53333333 0.5372549\n",
            " 0.54117647 0.54509804 0.54901961 0.55294118 0.55686275 0.56078431\n",
            " 0.56470588 0.56862745 0.57254902 0.57647059 0.58039216 0.58431373\n",
            " 0.58823529 0.59215686 0.59607843 0.6        0.60392157 0.60784314\n",
            " 0.61176471 0.61568627 0.61960784 0.62352941 0.62745098 0.63137255\n",
            " 0.63529412 0.63921569 0.64313725 0.64705882 0.65098039 0.65490196\n",
            " 0.65882353 0.6627451  0.66666667 0.67058824 0.6745098  0.67843137\n",
            " 0.68235294 0.68627451 0.69019608 0.69411765 0.69803922 0.70196078\n",
            " 0.70588235 0.70980392 0.71372549 0.71764706 0.72156863 0.7254902\n",
            " 0.72941176 0.73333333 0.7372549  0.74117647 0.74509804 0.74901961\n",
            " 0.75294118 0.75686275 0.76078431 0.76470588 0.76862745 0.77254902\n",
            " 0.77647059 0.78039216 0.78431373 0.78823529 0.79215686 0.79607843\n",
            " 0.8        0.80392157 0.80784314 0.81176471 0.81568627 0.81960784\n",
            " 0.82352941 0.82745098 0.83137255 0.83529412 0.83921569 0.84313725\n",
            " 0.84705882 0.85098039 0.85490196 0.85882353 0.8627451  0.86666667\n",
            " 0.87058824 0.8745098  0.87843137 0.88235294 0.88627451 0.89019608\n",
            " 0.89411765 0.89803922 0.90196078 0.90588235 0.90980392 0.91372549\n",
            " 0.91764706 0.92156863 0.9254902  0.92941176 0.93333333 0.9372549\n",
            " 0.94117647 0.94509804 0.94901961 0.95294118 0.95686275 0.96078431\n",
            " 0.96470588 0.96862745 0.97254902 0.97647059 0.98039216 0.98431373\n",
            " 0.98823529 0.99215686 0.99607843 1.        ]\n"
          ],
          "name": "stdout"
        }
      ]
    },
    {
      "cell_type": "markdown",
      "metadata": {
        "id": "EsR1t8_-XgaS",
        "colab_type": "text"
      },
      "source": [
        "Finally we split our data into two parts: One that we use to train our model and another, disjoint one, that we will later use to evaluate its performance.\n",
        "\n",
        "A lot can go wrong in this step. But for now we won't worry about the details. After all, this is only meant to be a quick demo, not a project meant to ever go into production."
      ]
    },
    {
      "cell_type": "code",
      "metadata": {
        "id": "mGEPVON_XTjW",
        "colab_type": "code",
        "colab": {}
      },
      "source": [
        "X_train, y_train = X_scaled[:60000], y[:60000]\n",
        "X_test, y_test = X_scaled[60000:], y[60000:]"
      ],
      "execution_count": 0,
      "outputs": []
    },
    {
      "cell_type": "markdown",
      "metadata": {
        "id": "Kr2Ns27vXKJn",
        "colab_type": "text"
      },
      "source": [
        "#### Model Design\n",
        "\n",
        "Next we design a model to be trained on our prepared data. Experience tells me that a so-called SVM Classifier will work pretty good here, while also being easy to create and train. So let's go with that for now.\n",
        "\n",
        "There are a lot you can configure about this model, but here we will keep it very simple and go with the defaults."
      ]
    },
    {
      "cell_type": "code",
      "metadata": {
        "id": "1POghBLzYXsx",
        "colab_type": "code",
        "colab": {}
      },
      "source": [
        "from sklearn.svm import LinearSVC\n",
        "\n",
        "svm_classifier = LinearSVC()"
      ],
      "execution_count": 0,
      "outputs": []
    },
    {
      "cell_type": "markdown",
      "metadata": {
        "id": "jv3bFC3kZmhM",
        "colab_type": "text"
      },
      "source": [
        "#### Model Training\n",
        "\n",
        "Next we have to train our model. Thanks to Sklearn this is a easy as calling"
      ]
    },
    {
      "cell_type": "code",
      "metadata": {
        "id": "-jK_sE1yZtxj",
        "colab_type": "code",
        "outputId": "a64c4a39-c975-4c94-9fe8-b36f8d257e53",
        "colab": {
          "base_uri": "https://localhost:8080/",
          "height": 139
        }
      },
      "source": [
        "svm_classifier.fit(X_train, y_train)"
      ],
      "execution_count": 69,
      "outputs": [
        {
          "output_type": "stream",
          "text": [
            "/usr/local/lib/python3.6/dist-packages/sklearn/svm/base.py:929: ConvergenceWarning: Liblinear failed to converge, increase the number of iterations.\n",
            "  \"the number of iterations.\", ConvergenceWarning)\n"
          ],
          "name": "stderr"
        },
        {
          "output_type": "execute_result",
          "data": {
            "text/plain": [
              "LinearSVC(C=1.0, class_weight=None, dual=True, fit_intercept=True,\n",
              "          intercept_scaling=1, loss='squared_hinge', max_iter=1000,\n",
              "          multi_class='ovr', penalty='l2', random_state=None, tol=0.0001,\n",
              "          verbose=0)"
            ]
          },
          "metadata": {
            "tags": []
          },
          "execution_count": 69
        }
      ]
    },
    {
      "cell_type": "markdown",
      "metadata": {
        "id": "2esZRViyZ1ai",
        "colab_type": "text"
      },
      "source": [
        "We will later see that there's a lot going on the the background to make this happen. But for now let's just enjoy the fruits of our labour."
      ]
    },
    {
      "cell_type": "markdown",
      "metadata": {
        "id": "Fktwox7LaBZ8",
        "colab_type": "text"
      },
      "source": [
        "#### Model Evaluation\n",
        "\n",
        "Supposively, our model has now learned to recognize digits from images. But how can we know whether that's actually true?\n",
        "\n",
        "First, we can see whether it actually gets the images in the training set right. To do so, we can manually compare some instances:"
      ]
    },
    {
      "cell_type": "code",
      "metadata": {
        "id": "zBO4P36magoL",
        "colab_type": "code",
        "outputId": "e982d6cf-7d08-4232-e7cc-ee10a18ca4b5",
        "colab": {
          "base_uri": "https://localhost:8080/",
          "height": 1000
        }
      },
      "source": [
        "fig, axs = plt.subplots(nrows=3, figsize=(10,30))\n",
        "for i in range(0, 3):\n",
        "    true_digit = y_train[i]\n",
        "    predicted_digit = svm_classifier.predict(X_train[i].reshape(1,-1))[0]\n",
        "    sns.heatmap(X_pretty[i], ax=axs[i]).set_title(f'True digit: {true_digit} // Predicted digit: {predicted_digit}')\n",
        "\n"
      ],
      "execution_count": 70,
      "outputs": [
        {
          "output_type": "display_data",
          "data": {
            "image/png": "[encoded data removed]",
            "text/plain": [
              "<Figure size 720x2160 with 6 Axes>"
            ]
          },
          "metadata": {
            "tags": []
          }
        }
      ]
    },
    {
      "cell_type": "markdown",
      "metadata": {
        "id": "TxpjZY3idiL1",
        "colab_type": "text"
      },
      "source": [
        "It got all of these right, great!\n",
        "\n",
        "But clearly we can't manually inspect 60000 entries. What we need is a metric to tell us how well our model learned from its training set:"
      ]
    },
    {
      "cell_type": "code",
      "metadata": {
        "id": "YO8LXDbtdvTW",
        "colab_type": "code",
        "outputId": "10d6ca78-ef67-44d3-c186-6383b8d44f86",
        "colab": {
          "base_uri": "https://localhost:8080/",
          "height": 34
        }
      },
      "source": [
        "y_predicted_train = svm_classifier.predict(X_train)\n",
        "accuracy_train = sklearn.metrics.accuracy_score(y_train, y_predicted_train)\n",
        "\n",
        "print(f'The accuracy of svm_classifier on the training set is: {accuracy_train}')"
      ],
      "execution_count": 71,
      "outputs": [
        {
          "output_type": "stream",
          "text": [
            "The accuracy of svm_classifier on the training set is: 0.9262166666666667\n"
          ],
          "name": "stdout"
        }
      ]
    },
    {
      "cell_type": "markdown",
      "metadata": {
        "id": "rnbxzJr_eZKS",
        "colab_type": "text"
      },
      "source": [
        "So our model identifies 92.6% of its training samples correctly. That's pretty good.\n",
        "\n",
        "But, unfortunately, that's not all there is to the story. Since we created this metric from data the model had seen during training, this value is overly optimistic. What we really want to now is how well we should the model expect to perform on new data -- data it has never seen before.\n",
        "\n",
        "That's exactly why we've held back X_test, y_test. Let's check how well svm_classifier performs on the new data:"
      ]
    },
    {
      "cell_type": "code",
      "metadata": {
        "id": "r82vcTD5fKyV",
        "colab_type": "code",
        "outputId": "47d33049-cc89-4ea7-e3a1-826220163f89",
        "colab": {
          "base_uri": "https://localhost:8080/",
          "height": 34
        }
      },
      "source": [
        "y_predicted_test = svm_classifier.predict(X_test)\n",
        "accuracy_test = sklearn.metrics.accuracy_score(y_test, y_predicted_test)\n",
        "\n",
        "print(f'The accuracy of svm_classifier on the test set is: {accuracy_test}')"
      ],
      "execution_count": 72,
      "outputs": [
        {
          "output_type": "stream",
          "text": [
            "The accuracy of svm_classifier on the test set is: 0.9183\n"
          ],
          "name": "stdout"
        }
      ]
    },
    {
      "cell_type": "markdown",
      "metadata": {
        "id": "H8NLrWjNfaaF",
        "colab_type": "text"
      },
      "source": [
        "91.8% accuracy on the test set. As expected, it is a bit lower than the performance on the training set led us to believe. But, in this case, they're pretty close. Which tells us two things:\n",
        "\n",
        "1. A high accuracy during training shows us that the model was able to learn how to perform the OCR task at all.\n",
        "2. A high accuracy during testing gives us some level of confidence that it will be able to handle previously unseen data as well -- as long as it is sufficiently similar to the data encountered during testing."
      ]
    },
    {
      "cell_type": "markdown",
      "metadata": {
        "id": "jhExk8xwgc9q",
        "colab_type": "text"
      },
      "source": [
        "#### Bonus\n",
        "\n",
        "To demonstrate this last point, I've asked two colleagues to write down digits on a piece of paper and we will now see whether our model is able to recognize them as well:"
      ]
    },
    {
      "cell_type": "markdown",
      "metadata": {
        "id": "DQAcJINl-woX",
        "colab_type": "text"
      },
      "source": [
        "#### Get Custom MNIST Data"
      ]
    },
    {
      "cell_type": "code",
      "metadata": {
        "id": "WuPAuXodzYfp",
        "colab_type": "code",
        "colab": {
          "base_uri": "https://localhost:8080/",
          "height": 1000
        },
        "outputId": "04684660-a202-4096-c375-9b4f43b7e049"
      },
      "source": [
        "from skimage import io\n",
        "\n",
        "def read_image(url: str) -> np.array:\n",
        "    \"\"\"\n",
        "    Read image from url and return it in MNIST format.\n",
        "    \"\"\"\n",
        "    image = io.imread(url)\n",
        "    return np.reshape((255 - np.mean(np.array(image)[:,:,:3], axis=2)) / 255, newshape=(28*28))\n",
        "\n",
        "urls = []\n",
        "X_custom, y_custom = [], []\n",
        "\n",
        "for prefix in ['a', 'l']:\n",
        "    for digit in range(0, 10):\n",
        "        url = f'https://raw.githubusercontent.com/KappaDistributive/Practical-Data-Science/master/datasets/mnist_custom/{prefix}_{digit}.png'\n",
        "        X_custom.append(read_image(url))\n",
        "        y_custom.append(str(digit))\n",
        "X_custom, y_custom  = np.array(X_custom), np.array(y_custom)\n",
        "print(f'X_custom[0] = {X_custom[0]}')\n",
        "sns.heatmap(np.reshape(X_custom[0], newshape=(28,28)))"
      ],
      "execution_count": 113,
      "outputs": [
        {
          "output_type": "stream",
          "text": [
            "X_custom[0] = [0.07712418 0.07712418 0.07843137 0.07843137 0.07843137 0.07843137\n",
            " 0.08104575 0.06405229 0.06928105 0.07712418 0.0627451  0.07058824\n",
            " 0.07320261 0.06797386 0.06928105 0.06797386 0.06535948 0.06928105\n",
            " 0.06928105 0.07189542 0.0745098  0.07058824 0.07058824 0.07058824\n",
            " 0.07058824 0.07058824 0.07058824 0.07058824 0.07712418 0.07712418\n",
            " 0.07843137 0.07843137 0.07843137 0.07712418 0.07320261 0.07058824\n",
            " 0.0745098  0.06928105 0.08104575 0.06405229 0.07189542 0.07189542\n",
            " 0.07843137 0.08496732 0.06797386 0.06143791 0.06535948 0.06535948\n",
            " 0.07058824 0.07058824 0.07058824 0.07058824 0.07058824 0.07058824\n",
            " 0.07058824 0.07058824 0.07712418 0.07712418 0.07843137 0.07843137\n",
            " 0.07843137 0.07712418 0.07843137 0.07320261 0.06928105 0.05490196\n",
            " 0.03660131 0.02875817 0.02875817 0.01699346 0.02091503 0.07189542\n",
            " 0.07581699 0.07320261 0.07581699 0.07712418 0.08235294 0.07581699\n",
            " 0.07058824 0.07058824 0.07058824 0.07058824 0.07058824 0.07058824\n",
            " 0.07712418 0.07712418 0.07712418 0.07712418 0.07712418 0.07973856\n",
            " 0.07320261 0.07712418 0.06013072 0.01045752 0.18431373 0.45228758\n",
            " 0.5751634  0.33986928 0.06535948 0.00915033 0.05359477 0.07581699\n",
            " 0.07320261 0.07581699 0.07843137 0.07189542 0.07058824 0.07058824\n",
            " 0.07058824 0.07058824 0.07058824 0.07058824 0.07712418 0.07712418\n",
            " 0.07712418 0.07712418 0.08104575 0.07712418 0.06928105 0.07189542\n",
            " 0.02875817 0.24052288 1.         1.         1.         1.\n",
            " 0.59477124 0.14379085 0.04313725 0.03529412 0.0379085  0.05620915\n",
            " 0.06013072 0.07189542 0.0745098  0.07058824 0.07058824 0.07058824\n",
            " 0.07058824 0.07058824 0.07058824 0.06928105 0.07712418 0.08104575\n",
            " 0.08496732 0.06928105 0.06405229 0.02614379 0.19738562 1.\n",
            " 0.99738562 0.85620915 0.90980392 0.8627451  1.         0.77908497\n",
            " 0.50849673 0.29150327 0.06013072 0.00653595 0.05751634 0.07843137\n",
            " 0.07843137 0.06535948 0.06143791 0.0745098  0.07058824 0.07058824\n",
            " 0.07712418 0.0745098  0.07712418 0.08496732 0.07189542 0.08496732\n",
            " 0.05490196 0.05620915 0.5372549  1.         0.92156863 1.\n",
            " 1.         0.96862745 0.84575163 1.         1.         1.\n",
            " 0.59346405 0.26928105 0.06143791 0.0248366  0.08496732 0.07843137\n",
            " 0.06928105 0.06666667 0.07058824 0.07058824 0.07712418 0.07712418\n",
            " 0.07058824 0.07712418 0.08104575 0.06535948 0.03660131 0.33856209\n",
            " 1.         0.9751634  0.88496732 0.73464052 0.76732026 1.\n",
            " 1.         1.         0.84575163 0.89803922 1.         1.\n",
            " 0.56339869 0.09411765 0.03267974 0.09281046 0.06143791 0.05882353\n",
            " 0.07058824 0.07058824 0.07712418 0.07712418 0.07058824 0.07320261\n",
            " 0.09019608 0.04444444 0.14117647 0.75424837 1.         0.72941176\n",
            " 0.17647059 0.06797386 0.09673203 0.18823529 0.38039216 0.6745098\n",
            " 1.         1.         0.87973856 0.86405229 1.         0.51895425\n",
            " 0.03921569 0.0496732  0.08235294 0.08235294 0.06666667 0.07058824\n",
            " 0.07712418 0.07581699 0.08496732 0.08235294 0.08235294 0.04575163\n",
            " 0.35816993 1.         1.         0.37124183 0.00522876 0.04313725\n",
            " 0.0496732  0.01437908 0.02091503 0.0875817  0.32026144 0.98562092\n",
            " 1.         0.88366013 0.90849673 1.         0.2248366  0.02222222\n",
            " 0.0875817  0.07712418 0.07058824 0.07058824 0.07058824 0.0745098\n",
            " 0.08627451 0.06928105 0.05490196 0.06666667 0.67843137 1.\n",
            " 1.         0.20915033 0.01960784 0.07058824 0.07058824 0.09019608\n",
            " 0.07058824 0.04705882 0.00653595 0.14509804 0.68104575 1.\n",
            " 0.86535948 1.         0.61830065 0.0496732  0.04575163 0.0875817\n",
            " 0.07189542 0.07320261 0.07058824 0.07189542 0.0745098  0.0627451\n",
            " 0.04836601 0.15424837 0.86666667 0.95424837 1.         0.26535948\n",
            " 0.01699346 0.07189542 0.06797386 0.07843137 0.06797386 0.0627451\n",
            " 0.04836601 0.01176471 0.16078431 0.7503268  1.         0.90849673\n",
            " 1.         0.15424837 0.03921569 0.06928105 0.07189542 0.07320261\n",
            " 0.0745098  0.07189542 0.06666667 0.0745098  0.03921569 0.30588235\n",
            " 1.         0.86013072 1.         0.30196078 0.00261438 0.06928105\n",
            " 0.0745098  0.07320261 0.0745098  0.07189542 0.06405229 0.0745098\n",
            " 0.01830065 0.2248366  1.         0.91372549 1.         0.16339869\n",
            " 0.02222222 0.05882353 0.07189542 0.07320261 0.07712418 0.07712418\n",
            " 0.0627451  0.08104575 0.04183007 0.43398693 1.         0.84183007\n",
            " 1.         0.34379085 0.00653595 0.07189542 0.08366013 0.06797386\n",
            " 0.07581699 0.08104575 0.07843137 0.07843137 0.04444444 0.04836601\n",
            " 0.64052288 1.         1.         0.17124183 0.01568627 0.06928105\n",
            " 0.07581699 0.07320261 0.07712418 0.07712418 0.07712418 0.07581699\n",
            " 0.07320261 0.46928105 1.         0.85751634 1.         0.57908497\n",
            " 0.05359477 0.05490196 0.08235294 0.0745098  0.07973856 0.0875817\n",
            " 0.08104575 0.06928105 0.07189542 0.0627451  0.52026144 1.\n",
            " 1.         0.12941176 0.02091503 0.0745098  0.07189542 0.07320261\n",
            " 0.07712418 0.07712418 0.07712418 0.06405229 0.04183007 0.44444444\n",
            " 1.         0.87581699 0.99607843 1.         0.21045752 0.00261438\n",
            " 0.07320261 0.0745098  0.08627451 0.07058824 0.0745098  0.06666667\n",
            " 0.06405229 0.06013072 0.48888889 1.         0.78300654 0.08104575\n",
            " 0.03529412 0.07058824 0.07189542 0.07320261 0.07712418 0.07973856\n",
            " 0.07320261 0.08627451 0.04575163 0.36339869 1.         0.89411765\n",
            " 0.92287582 1.         0.62352941 0.08235294 0.00130719 0.06666667\n",
            " 0.08366013 0.08235294 0.09803922 0.08627451 0.06143791 0.06013072\n",
            " 0.53333333 1.         0.51372549 0.03267974 0.04705882 0.08104575\n",
            " 0.07581699 0.07320261 0.07712418 0.07581699 0.04444444 0.07581699\n",
            " 0.04444444 0.24444444 1.         0.9372549  0.98954248 0.92287582\n",
            " 1.         0.69934641 0.18562092 0.01568627 0.01830065 0.03267974\n",
            " 0.0248366  0.01960784 0.00784314 0.12679739 0.7869281  1.\n",
            " 0.25359477 0.00522876 0.0745098  0.08496732 0.06797386 0.07320261\n",
            " 0.07712418 0.07973856 0.06666667 0.06797386 0.05228758 0.14771242\n",
            " 0.83529412 1.         0.96732026 1.         0.92156863 1.\n",
            " 1.         0.42352941 0.23006536 0.1254902  0.09150327 0.14248366\n",
            " 0.24836601 0.58300654 1.         0.66013072 0.09411765 0.02614379\n",
            " 0.06928105 0.07189542 0.06797386 0.07320261 0.07712418 0.07843137\n",
            " 0.08104575 0.07320261 0.06928105 0.04444444 0.50849673 1.\n",
            " 0.90326797 1.         1.         0.92810458 1.         1.\n",
            " 1.         1.         0.93856209 1.         1.         1.\n",
            " 1.         0.29673203 0.00130719 0.06666667 0.08235294 0.07712418\n",
            " 0.0745098  0.07058824 0.07712418 0.07712418 0.08366013 0.07320261\n",
            " 0.07843137 0.02875817 0.22091503 1.         0.89542484 0.97385621\n",
            " 1.         1.         0.9620915  0.90457516 0.90980392 0.97777778\n",
            " 0.99477124 0.96470588 0.84313725 1.         0.56732026 0.07320261\n",
            " 0.03921569 0.07712418 0.07712418 0.08104575 0.07058824 0.07058824\n",
            " 0.07712418 0.07712418 0.07581699 0.07058824 0.06666667 0.06143791\n",
            " 0.04705882 0.45359477 1.         0.86405229 0.91764706 0.99346405\n",
            " 1.         0.99869281 1.         0.97647059 0.90588235 0.86013072\n",
            " 1.         0.81176471 0.13986928 0.01045752 0.08104575 0.08496732\n",
            " 0.08104575 0.06535948 0.06928105 0.07058824 0.07712418 0.07712418\n",
            " 0.0745098  0.0745098  0.07320261 0.08104575 0.03660131 0.0875817\n",
            " 0.51633987 1.         1.         0.88235294 0.87712418 0.89411765\n",
            " 0.88104575 0.89411765 1.         1.         0.80653595 0.19215686\n",
            " 0.02352941 0.06143791 0.07320261 0.07320261 0.07712418 0.06928105\n",
            " 0.0745098  0.07058824 0.07712418 0.07843137 0.07320261 0.07973856\n",
            " 0.07843137 0.08496732 0.06797386 0.03660131 0.05098039 0.33464052\n",
            " 0.6875817  1.         1.         1.         1.         1.\n",
            " 0.62745098 0.35686275 0.10196078 0.02222222 0.06928105 0.06535948\n",
            " 0.08496732 0.07320261 0.06928105 0.07320261 0.07058824 0.07058824\n",
            " 0.07712418 0.07712418 0.07581699 0.08104575 0.07843137 0.08104575\n",
            " 0.09019608 0.08235294 0.04313725 0.01568627 0.08104575 0.19738562\n",
            " 0.29019608 0.34379085 0.31633987 0.20261438 0.06797386 0.01699346\n",
            " 0.03398693 0.07843137 0.08496732 0.07712418 0.07712418 0.07712418\n",
            " 0.07712418 0.07320261 0.07058824 0.07058824 0.07712418 0.07712418\n",
            " 0.07843137 0.07712418 0.07712418 0.07712418 0.07581699 0.07712418\n",
            " 0.07581699 0.06797386 0.04052288 0.0248366  0.02222222 0.01176471\n",
            " 0.01960784 0.02614379 0.04705882 0.06928105 0.07581699 0.07973856\n",
            " 0.08627451 0.08104575 0.07712418 0.07712418 0.07712418 0.07712418\n",
            " 0.07058824 0.07058824 0.07712418 0.07712418 0.07712418 0.07712418\n",
            " 0.07712418 0.07712418 0.07712418 0.07581699 0.0745098  0.07581699\n",
            " 0.08104575 0.08366013 0.0745098  0.07058824 0.07973856 0.07712418\n",
            " 0.07581699 0.07581699 0.07581699 0.07189542 0.07189542 0.07581699\n",
            " 0.07712418 0.0745098  0.07058824 0.07058824 0.07058824 0.07058824\n",
            " 0.07712418 0.07712418 0.07712418 0.07712418 0.07712418 0.07712418\n",
            " 0.0745098  0.07320261 0.07712418 0.07973856 0.08496732 0.07843137\n",
            " 0.07320261 0.0745098  0.05882353 0.07320261 0.08496732 0.08104575\n",
            " 0.07973856 0.07712418 0.07320261 0.07189542 0.07058824 0.07058824\n",
            " 0.07058824 0.07058824 0.06928105 0.06666667]\n"
          ],
          "name": "stdout"
        },
        {
          "output_type": "execute_result",
          "data": {
            "text/plain": [
              "<matplotlib.axes._subplots.AxesSubplot at 0x7fe1bf5be4e0>"
            ]
          },
          "metadata": {
            "tags": []
          },
          "execution_count": 113
        },
        {
          "output_type": "display_data",
          "data": {
            "image/png": "[encoded data removed]",
            "text/plain": [
              "<Figure size 432x288 with 2 Axes>"
            ]
          },
          "metadata": {
            "tags": []
          }
        }
      ]
    },
    {
      "cell_type": "markdown",
      "metadata": {
        "id": "5TGTKnb3B8Mt",
        "colab_type": "text"
      },
      "source": [
        "Let's repeat the assume evaluation of our model as before but this time with our custom digits:"
      ]
    },
    {
      "cell_type": "code",
      "metadata": {
        "id": "WFdLEre1-0f1",
        "colab_type": "code",
        "colab": {
          "base_uri": "https://localhost:8080/",
          "height": 1000
        },
        "outputId": "9c7268b2-3cd8-4d4a-cfcc-a2de66ac68b2"
      },
      "source": [
        "fig, axs = plt.subplots(nrows=3, figsize=(10,30))\n",
        "for i in range(0, 3):\n",
        "    true_digit = y_custom[i]\n",
        "    predicted_digit = svm_classifier.predict(X_custom[i].reshape(1,-1))[0]\n",
        "    sns.heatmap(np.reshape(X_custom[i], newshape=(28,28)), ax=axs[i]).set_title(f'True digit: {true_digit} // Predicted digit: {predicted_digit}')\n",
        "\n",
        "y_predicted_custom = svm_classifier.predict(X_custom)\n"
      ],
      "execution_count": 114,
      "outputs": [
        {
          "output_type": "display_data",
          "data": {
            "image/png": "[encoded data removed]",
            "text/plain": [
              "<Figure size 720x2160 with 6 Axes>"
            ]
          },
          "metadata": {
            "tags": []
          }
        }
      ]
    },
    {
      "cell_type": "code",
      "metadata": {
        "id": "EtFZA3RrAwxP",
        "colab_type": "code",
        "colab": {
          "base_uri": "https://localhost:8080/",
          "height": 102
        },
        "outputId": "bb1ac8cd-7da6-4291-b4cb-9bf75f1e0daf"
      },
      "source": [
        "y_predicted_custom = svm_classifier.predict(X_custom)\n",
        "\n",
        "print(y_custom)\n",
        "print(y_predicted_custom)\n",
        "\n",
        "accuracy_custom = sklearn.metrics.accuracy_score(y_custom, y_predicted_custom)\n",
        "\n",
        "print(f'Accuracy of svm_classifier on custom set: {accuracy_custom}')\n"
      ],
      "execution_count": 115,
      "outputs": [
        {
          "output_type": "stream",
          "text": [
            "['0' '1' '2' '3' '4' '5' '6' '7' '8' '9' '0' '1' '2' '3' '4' '5' '6' '7'\n",
            " '8' '9']\n",
            "['0' '3' '2' '3' '7' '7' '3' '6' '5' '7' '3' '5' '2' '3' '2' '8' '2' '2'\n",
            " '8' '3']\n",
            "Accuracy of svm_classifier on custom set: 0.3\n"
          ],
          "name": "stdout"
        }
      ]
    },
    {
      "cell_type": "markdown",
      "metadata": {
        "id": "6sscYJhVCFet",
        "colab_type": "text"
      },
      "source": [
        "The accuracy dropped down all the way to 30%. That's terrible (but not surprising)!\n",
        "\n",
        "Remember this: It is entirely possible for a machine learning model to do well during training (, evaluation) and testing, yet fail to generalize well to the kind of data it might see in production.\n",
        "\n",
        "There are various techniques to account for this but that's a topic for another time."
      ]
    },
    {
      "cell_type": "markdown",
      "metadata": {
        "id": "5xMy9A8weXnn",
        "colab_type": "text"
      },
      "source": [
        "To end our first session, let's look at a few machine learning applications in the wild.\n",
        "\n",
        "1. Talking to Transformer\n",
        "    > https://talktotransformer.com\n",
        "2. This Person Does Not Exist\n",
        "    > https://www.thispersondoesnotexist.com\n",
        "3. AutoDraw\n",
        "    > https://www.autodraw.com\n",
        "4. Fast Neural Style\n",
        "    > *SEIZURE WARNING*: The following demonstration involves rapidly flashing images.\n",
        "    >\n",
        "    > https://tenso.rs/demos/fast-neural-style/"
      ]
    },
    {
      "cell_type": "code",
      "metadata": {
        "id": "XCMuJDTHHajD",
        "colab_type": "code",
        "colab": {}
      },
      "source": [
        ""
      ],
      "execution_count": 0,
      "outputs": []
    }
  ]
}