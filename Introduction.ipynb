{
  "nbformat": 4,
  "nbformat_minor": 0,
  "metadata": {
    "colab": {
      "name": "Untitled1.ipynb",
      "provenance": [],
      "include_colab_link": true
    },
    "kernelspec": {
      "name": "python3",
      "display_name": "Python 3"
    }
  },
  "cells": [
    {
      "cell_type": "markdown",
      "metadata": {
        "id": "view-in-github",
        "colab_type": "text"
      },
      "source": [
        "<a href=\"https://colab.research.google.com/github/KappaDistributive/Practical-Data-Science/blob/develop/Introduction.ipynb\" target=\"_parent\"><img src=\"https://colab.research.google.com/assets/colab-badge.svg\" alt=\"Open In Colab\"/></a>"
      ]
    },
    {
      "cell_type": "markdown",
      "metadata": {
        "id": "zR8yIkFRN_sf",
        "colab_type": "text"
      },
      "source": [
        "# Introduction\n",
        "\n",
        "This is an introductory course to the field of Data Science, with emphasis on practical applications of machine learning."
      ]
    },
    {
      "cell_type": "markdown",
      "metadata": {
        "id": "cGMzglZ0NqAD",
        "colab_type": "text"
      },
      "source": [
        "# Syllabus\n",
        "- What is Data Science?\n",
        "- What is Machine Learning?\n",
        "- Examples of applied Machine Learning"
      ]
    }
  ]
}