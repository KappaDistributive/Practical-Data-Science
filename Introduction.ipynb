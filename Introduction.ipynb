{
  "nbformat": 4,
  "nbformat_minor": 0,
  "metadata": {
    "colab": {
      "name": "Untitled1.ipynb",
      "provenance": [],
      "include_colab_link": true
    },
    "kernelspec": {
      "name": "python3",
      "display_name": "Python 3"
    }
  },
  "cells": [
    {
      "cell_type": "markdown",
      "metadata": {
        "id": "view-in-github",
        "colab_type": "text"
      },
      "source": [
        "<a href=\"https://colab.research.google.com/github/KappaDistributive/Practical-Data-Science/blob/develop/Introduction.ipynb\" target=\"_parent\"><img src=\"https://colab.research.google.com/assets/colab-badge.svg\" alt=\"Open In Colab\"/></a>"
      ]
    },
    {
      "cell_type": "markdown",
      "metadata": {
        "id": "SW2xRsZVoUea",
        "colab_type": "text"
      },
      "source": [
        "# Practical Data Science 101\n",
        "by Stefan Mesken."
      ]
    },
    {
      "cell_type": "markdown",
      "metadata": {
        "id": "zR8yIkFRN_sf",
        "colab_type": "text"
      },
      "source": [
        "## Introduction\n",
        "\n",
        "This is an interactive, introductory course to the field of Data Science, with strong emphasis on practical applications of Machine Learning."
      ]
    },
    {
      "cell_type": "markdown",
      "metadata": {
        "id": "q_hdXUxp1YTc",
        "colab_type": "text"
      },
      "source": [
        "## Target Audience\n",
        "\n",
        "Anyone able to use these notebooks and write some code in Python will be able to benefit from this course.\n",
        "\n",
        "While our focus lies with this group of beginners, we'll also allow more experienced programmers and data scientist to try their hands on advanced methods.\n",
        "\n",
        "By the end of this course, you will be able to create and use your own Machine Learning models. In the procress, you will furthermore \n",
        "develop a better understanding of the requirements and challenges that Applied Data Scientists face in their daily work.\n"
      ]
    },
    {
      "cell_type": "markdown",
      "metadata": {
        "id": "cGMzglZ0NqAD",
        "colab_type": "text"
      },
      "source": [
        "## Syllabus\n",
        "1. What is Data Science?\n",
        "2. What is Machine Learning?\n",
        "3. Examples of Applied Machine Learning"
      ]
    },
    {
      "cell_type": "markdown",
      "metadata": {
        "id": "aCWA6RkFnWvI",
        "colab_type": "text"
      },
      "source": [
        "## What is Data Science?\n",
        "\n",
        "Data Science is a field somewhere in the intersection of computer science, mathematics and statistic that aims to leverage scientific methods to extract value from existing data.\n",
        "\n",
        "As such, it plays a central role in all of our daily lifes. Prominent examples of applied data science include, in no particular order,\n",
        "\n",
        "- weather forecasts,\n",
        "- risk assesments of insurance companies,\n",
        "- personalized advertisements,\n",
        "- spam filtering,\n",
        "- travel time estimations (found in most modern navigation systems),\n",
        "- voice assistants,\n",
        "- image enhancement,\n",
        "- recommender systems,\n",
        "- machine translation,\n",
        "- advanced driver-assistance systems,\n",
        "- facial recognition,\n",
        "- active noise reduction,\n",
        "- ...\n",
        "\n",
        "In its current form, Data Science can roughly been partioned into the following subcategories:\n",
        "\n",
        "- Data Mining\n",
        "- Analytics\n",
        "- Statistical Methods\n",
        "- Machine Learning\n",
        "\n",
        "In this course, we will heavily focus on the last category -- Machine Learning [1].\n",
        "\n",
        "\n",
        "[1]: The keen observer may be wondering why the term 'Artificial Intelligence' does not appear on this list.\n",
        "\n",
        "This is indeed a fair question, given that Artificial Intelligence is the main buzzword associated with Data Science in the media. \n",
        "However, it is the author's opinion that no reasonable defintion of Artificial Intelligence has been achieved at the time of this writing and, consequently, that this category doesn't yet exist. If this doesn't seem satisfactory, feel free to use the terms Artificial Intelligence and Machine Learning synonymously for the purposes of this course. For more information, see ['On the Measure of Intelligence' by François Chollet](https://arxiv.org/abs/1911.01547).\n",
        "\n"
      ]
    },
    {
      "cell_type": "markdown",
      "metadata": {
        "id": "Atlo4gcDt2ty",
        "colab_type": "text"
      },
      "source": [
        "## What is Machine Learning?\n",
        "\n",
        "In 1959 Arthur Samuel coined the term 'Machine Learning' to describe the systematic study of algorithms and models that can be adopted ('trained') to complete a specific task without being explicitly told how to do so. As a subcategory of Data Science, Machine Learning itself is a collection of related fields:\n",
        "\n",
        "- Supervised Learning,\n",
        "- Unsupervised Learning,\n",
        "- Reinforcement Learning,\n",
        "- Self Learning,\n",
        "- Federated Learning,\n",
        "- ...\n",
        "\n",
        "Supervised and Unsupervised Learning are the subjects that we shall focus on. And to begin with that, let's look at a few examples of Machine Learning models created with these techniques."
      ]
    },
    {
      "cell_type": "markdown",
      "metadata": {
        "id": "QnbeMPQe0kBC",
        "colab_type": "text"
      },
      "source": [
        "## Examples of Applied Machine Learning"
      ]
    },
    {
      "cell_type": "code",
      "metadata": {
        "id": "fLOHGOHS05no",
        "colab_type": "code",
        "colab": {}
      },
      "source": [
        ""
      ],
      "execution_count": 0,
      "outputs": []
    }
  ]
}