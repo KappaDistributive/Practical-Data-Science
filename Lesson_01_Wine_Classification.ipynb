{
  "nbformat": 4,
  "nbformat_minor": 0,
  "metadata": {
    "colab": {
      "name": "Lesson 01: Wine Classification.ipynb",
      "provenance": [],
      "authorship_tag": "ABX9TyP9BQxYfuy4oJvEN49+hA/e",
      "include_colab_link": true
    },
    "kernelspec": {
      "name": "python3",
      "display_name": "Python 3"
    }
  },
  "cells": [
    {
      "cell_type": "markdown",
      "metadata": {
        "id": "view-in-github",
        "colab_type": "text"
      },
      "source": [
        "<a href=\"https://colab.research.google.com/github/KappaDistributive/Practical-Data-Science/blob/develop/Lesson_01_Wine_Classification.ipynb\" target=\"_parent\"><img src=\"https://colab.research.google.com/assets/colab-badge.svg\" alt=\"Open In Colab\"/></a>"
      ]
    },
    {
      "cell_type": "markdown",
      "metadata": {
        "id": "fnXDl8gOqsxv",
        "colab_type": "text"
      },
      "source": [
        "# Loading Libraries"
      ]
    },
    {
      "cell_type": "code",
      "metadata": {
        "id": "Z4AaF4ysQyyB",
        "colab_type": "code",
        "colab": {}
      },
      "source": [
        "import matplotlib.pyplot as plot\n",
        "import sklearn\n",
        "import sklearn.datasets\n",
        "from sklearn.model_selection import train_test_split\n",
        "from sklearn.tree import DecisionTreeClassifier\n",
        "from sklearn.metrics import accuracy_score, precision_score, recall_score \n",
        "import pandas as pd"
      ],
      "execution_count": 0,
      "outputs": []
    },
    {
      "cell_type": "markdown",
      "metadata": {
        "id": "rGE5o223bRzw",
        "colab_type": "text"
      },
      "source": [
        "# Loading Data"
      ]
    },
    {
      "cell_type": "code",
      "metadata": {
        "id": "_Q1Mf519Zfkc",
        "colab_type": "code",
        "outputId": "47275bd6-3cdb-4c12-8a1d-40cf57ff71e1",
        "colab": {
          "base_uri": "https://localhost:8080/",
          "height": 445
        }
      },
      "source": [
        "wine_raw_data = sklearn.datasets.load_wine(return_X_y=False)\n",
        "\n",
        "print('\\n###Wine Raw Data###\\n')\n",
        "print(wine_raw_data)"
      ],
      "execution_count": 2,
      "outputs": [
        {
          "output_type": "stream",
          "text": [
            "\n",
            "###Wine Raw Data###\n",
            "\n",
            "{'data': array([[1.423e+01, 1.710e+00, 2.430e+00, ..., 1.040e+00, 3.920e+00,\n",
            "        1.065e+03],\n",
            "       [1.320e+01, 1.780e+00, 2.140e+00, ..., 1.050e+00, 3.400e+00,\n",
            "        1.050e+03],\n",
            "       [1.316e+01, 2.360e+00, 2.670e+00, ..., 1.030e+00, 3.170e+00,\n",
            "        1.185e+03],\n",
            "       ...,\n",
            "       [1.327e+01, 4.280e+00, 2.260e+00, ..., 5.900e-01, 1.560e+00,\n",
            "        8.350e+02],\n",
            "       [1.317e+01, 2.590e+00, 2.370e+00, ..., 6.000e-01, 1.620e+00,\n",
            "        8.400e+02],\n",
            "       [1.413e+01, 4.100e+00, 2.740e+00, ..., 6.100e-01, 1.600e+00,\n",
            "        5.600e+02]]), 'target': array([0, 0, 0, 0, 0, 0, 0, 0, 0, 0, 0, 0, 0, 0, 0, 0, 0, 0, 0, 0, 0, 0,\n",
            "       0, 0, 0, 0, 0, 0, 0, 0, 0, 0, 0, 0, 0, 0, 0, 0, 0, 0, 0, 0, 0, 0,\n",
            "       0, 0, 0, 0, 0, 0, 0, 0, 0, 0, 0, 0, 0, 0, 0, 1, 1, 1, 1, 1, 1, 1,\n",
            "       1, 1, 1, 1, 1, 1, 1, 1, 1, 1, 1, 1, 1, 1, 1, 1, 1, 1, 1, 1, 1, 1,\n",
            "       1, 1, 1, 1, 1, 1, 1, 1, 1, 1, 1, 1, 1, 1, 1, 1, 1, 1, 1, 1, 1, 1,\n",
            "       1, 1, 1, 1, 1, 1, 1, 1, 1, 1, 1, 1, 1, 1, 1, 1, 1, 1, 1, 1, 2, 2,\n",
            "       2, 2, 2, 2, 2, 2, 2, 2, 2, 2, 2, 2, 2, 2, 2, 2, 2, 2, 2, 2, 2, 2,\n",
            "       2, 2, 2, 2, 2, 2, 2, 2, 2, 2, 2, 2, 2, 2, 2, 2, 2, 2, 2, 2, 2, 2,\n",
            "       2, 2]), 'target_names': array(['class_0', 'class_1', 'class_2'], dtype='<U7'), 'DESCR': '.. _wine_dataset:\\n\\nWine recognition dataset\\n------------------------\\n\\n**Data Set Characteristics:**\\n\\n    :Number of Instances: 178 (50 in each of three classes)\\n    :Number of Attributes: 13 numeric, predictive attributes and the class\\n    :Attribute Information:\\n \\t\\t- Alcohol\\n \\t\\t- Malic acid\\n \\t\\t- Ash\\n\\t\\t- Alcalinity of ash  \\n \\t\\t- Magnesium\\n\\t\\t- Total phenols\\n \\t\\t- Flavanoids\\n \\t\\t- Nonflavanoid phenols\\n \\t\\t- Proanthocyanins\\n\\t\\t- Color intensity\\n \\t\\t- Hue\\n \\t\\t- OD280/OD315 of diluted wines\\n \\t\\t- Proline\\n\\n    - class:\\n            - class_0\\n            - class_1\\n            - class_2\\n\\t\\t\\n    :Summary Statistics:\\n    \\n    ============================= ==== ===== ======= =====\\n                                   Min   Max   Mean     SD\\n    ============================= ==== ===== ======= =====\\n    Alcohol:                      11.0  14.8    13.0   0.8\\n    Malic Acid:                   0.74  5.80    2.34  1.12\\n    Ash:                          1.36  3.23    2.36  0.27\\n    Alcalinity of Ash:            10.6  30.0    19.5   3.3\\n    Magnesium:                    70.0 162.0    99.7  14.3\\n    Total Phenols:                0.98  3.88    2.29  0.63\\n    Flavanoids:                   0.34  5.08    2.03  1.00\\n    Nonflavanoid Phenols:         0.13  0.66    0.36  0.12\\n    Proanthocyanins:              0.41  3.58    1.59  0.57\\n    Colour Intensity:              1.3  13.0     5.1   2.3\\n    Hue:                          0.48  1.71    0.96  0.23\\n    OD280/OD315 of diluted wines: 1.27  4.00    2.61  0.71\\n    Proline:                       278  1680     746   315\\n    ============================= ==== ===== ======= =====\\n\\n    :Missing Attribute Values: None\\n    :Class Distribution: class_0 (59), class_1 (71), class_2 (48)\\n    :Creator: R.A. Fisher\\n    :Donor: Michael Marshall (MARSHALL%PLU@io.arc.nasa.gov)\\n    :Date: July, 1988\\n\\nThis is a copy of UCI ML Wine recognition datasets.\\nhttps://archive.ics.uci.edu/ml/machine-learning-databases/wine/wine.data\\n\\nThe data is the results of a chemical analysis of wines grown in the same\\nregion in Italy by three different cultivators. There are thirteen different\\nmeasurements taken for different constituents found in the three types of\\nwine.\\n\\nOriginal Owners: \\n\\nForina, M. et al, PARVUS - \\nAn Extendible Package for Data Exploration, Classification and Correlation. \\nInstitute of Pharmaceutical and Food Analysis and Technologies,\\nVia Brigata Salerno, 16147 Genoa, Italy.\\n\\nCitation:\\n\\nLichman, M. (2013). UCI Machine Learning Repository\\n[https://archive.ics.uci.edu/ml]. Irvine, CA: University of California,\\nSchool of Information and Computer Science. \\n\\n.. topic:: References\\n\\n  (1) S. Aeberhard, D. Coomans and O. de Vel, \\n  Comparison of Classifiers in High Dimensional Settings, \\n  Tech. Rep. no. 92-02, (1992), Dept. of Computer Science and Dept. of  \\n  Mathematics and Statistics, James Cook University of North Queensland. \\n  (Also submitted to Technometrics). \\n\\n  The data was used with many others for comparing various \\n  classifiers. The classes are separable, though only RDA \\n  has achieved 100% correct classification. \\n  (RDA : 100%, QDA 99.4%, LDA 98.9%, 1NN 96.1% (z-transformed data)) \\n  (All results using the leave-one-out technique) \\n\\n  (2) S. Aeberhard, D. Coomans and O. de Vel, \\n  \"THE CLASSIFICATION PERFORMANCE OF RDA\" \\n  Tech. Rep. no. 92-01, (1992), Dept. of Computer Science and Dept. of \\n  Mathematics and Statistics, James Cook University of North Queensland. \\n  (Also submitted to Journal of Chemometrics).\\n', 'feature_names': ['alcohol', 'malic_acid', 'ash', 'alcalinity_of_ash', 'magnesium', 'total_phenols', 'flavanoids', 'nonflavanoid_phenols', 'proanthocyanins', 'color_intensity', 'hue', 'od280/od315_of_diluted_wines', 'proline']}\n"
          ],
          "name": "stdout"
        }
      ]
    },
    {
      "cell_type": "code",
      "metadata": {
        "id": "miWIVoUcZoy2",
        "colab_type": "code",
        "outputId": "3850449d-77f8-4397-aae7-2967664501a1",
        "colab": {
          "base_uri": "https://localhost:8080/",
          "height": 1000
        }
      },
      "source": [
        "print('\\n###Keys###\\n')\n",
        "print(wine_raw_data.keys())\n",
        "\n",
        "print('###Data###')\n",
        "print(wine_raw_data['data'])\n",
        "\n",
        "print('###Target###')\n",
        "print(wine_raw_data['target'])\n",
        "\n",
        "print('\\n###Target Names###\\n')\n",
        "print(wine_raw_data['target_names'])\n",
        "\n",
        "\n",
        "print('\\n###Description###\\n')\n",
        "print(wine_raw_data['DESCR'])\n",
        "\n",
        "\n",
        "print('\\n###Feature Names###\\n')\n",
        "print(wine_raw_data['feature_names'])"
      ],
      "execution_count": 3,
      "outputs": [
        {
          "output_type": "stream",
          "text": [
            "\n",
            "###Keys###\n",
            "\n",
            "dict_keys(['data', 'target', 'target_names', 'DESCR', 'feature_names'])\n",
            "###Data###\n",
            "[[1.423e+01 1.710e+00 2.430e+00 ... 1.040e+00 3.920e+00 1.065e+03]\n",
            " [1.320e+01 1.780e+00 2.140e+00 ... 1.050e+00 3.400e+00 1.050e+03]\n",
            " [1.316e+01 2.360e+00 2.670e+00 ... 1.030e+00 3.170e+00 1.185e+03]\n",
            " ...\n",
            " [1.327e+01 4.280e+00 2.260e+00 ... 5.900e-01 1.560e+00 8.350e+02]\n",
            " [1.317e+01 2.590e+00 2.370e+00 ... 6.000e-01 1.620e+00 8.400e+02]\n",
            " [1.413e+01 4.100e+00 2.740e+00 ... 6.100e-01 1.600e+00 5.600e+02]]\n",
            "###Target###\n",
            "[0 0 0 0 0 0 0 0 0 0 0 0 0 0 0 0 0 0 0 0 0 0 0 0 0 0 0 0 0 0 0 0 0 0 0 0 0\n",
            " 0 0 0 0 0 0 0 0 0 0 0 0 0 0 0 0 0 0 0 0 0 0 1 1 1 1 1 1 1 1 1 1 1 1 1 1 1\n",
            " 1 1 1 1 1 1 1 1 1 1 1 1 1 1 1 1 1 1 1 1 1 1 1 1 1 1 1 1 1 1 1 1 1 1 1 1 1\n",
            " 1 1 1 1 1 1 1 1 1 1 1 1 1 1 1 1 1 1 1 2 2 2 2 2 2 2 2 2 2 2 2 2 2 2 2 2 2\n",
            " 2 2 2 2 2 2 2 2 2 2 2 2 2 2 2 2 2 2 2 2 2 2 2 2 2 2 2 2 2 2]\n",
            "\n",
            "###Target Names###\n",
            "\n",
            "['class_0' 'class_1' 'class_2']\n",
            "\n",
            "###Description###\n",
            "\n",
            ".. _wine_dataset:\n",
            "\n",
            "Wine recognition dataset\n",
            "------------------------\n",
            "\n",
            "**Data Set Characteristics:**\n",
            "\n",
            "    :Number of Instances: 178 (50 in each of three classes)\n",
            "    :Number of Attributes: 13 numeric, predictive attributes and the class\n",
            "    :Attribute Information:\n",
            " \t\t- Alcohol\n",
            " \t\t- Malic acid\n",
            " \t\t- Ash\n",
            "\t\t- Alcalinity of ash  \n",
            " \t\t- Magnesium\n",
            "\t\t- Total phenols\n",
            " \t\t- Flavanoids\n",
            " \t\t- Nonflavanoid phenols\n",
            " \t\t- Proanthocyanins\n",
            "\t\t- Color intensity\n",
            " \t\t- Hue\n",
            " \t\t- OD280/OD315 of diluted wines\n",
            " \t\t- Proline\n",
            "\n",
            "    - class:\n",
            "            - class_0\n",
            "            - class_1\n",
            "            - class_2\n",
            "\t\t\n",
            "    :Summary Statistics:\n",
            "    \n",
            "    ============================= ==== ===== ======= =====\n",
            "                                   Min   Max   Mean     SD\n",
            "    ============================= ==== ===== ======= =====\n",
            "    Alcohol:                      11.0  14.8    13.0   0.8\n",
            "    Malic Acid:                   0.74  5.80    2.34  1.12\n",
            "    Ash:                          1.36  3.23    2.36  0.27\n",
            "    Alcalinity of Ash:            10.6  30.0    19.5   3.3\n",
            "    Magnesium:                    70.0 162.0    99.7  14.3\n",
            "    Total Phenols:                0.98  3.88    2.29  0.63\n",
            "    Flavanoids:                   0.34  5.08    2.03  1.00\n",
            "    Nonflavanoid Phenols:         0.13  0.66    0.36  0.12\n",
            "    Proanthocyanins:              0.41  3.58    1.59  0.57\n",
            "    Colour Intensity:              1.3  13.0     5.1   2.3\n",
            "    Hue:                          0.48  1.71    0.96  0.23\n",
            "    OD280/OD315 of diluted wines: 1.27  4.00    2.61  0.71\n",
            "    Proline:                       278  1680     746   315\n",
            "    ============================= ==== ===== ======= =====\n",
            "\n",
            "    :Missing Attribute Values: None\n",
            "    :Class Distribution: class_0 (59), class_1 (71), class_2 (48)\n",
            "    :Creator: R.A. Fisher\n",
            "    :Donor: Michael Marshall (MARSHALL%PLU@io.arc.nasa.gov)\n",
            "    :Date: July, 1988\n",
            "\n",
            "This is a copy of UCI ML Wine recognition datasets.\n",
            "https://archive.ics.uci.edu/ml/machine-learning-databases/wine/wine.data\n",
            "\n",
            "The data is the results of a chemical analysis of wines grown in the same\n",
            "region in Italy by three different cultivators. There are thirteen different\n",
            "measurements taken for different constituents found in the three types of\n",
            "wine.\n",
            "\n",
            "Original Owners: \n",
            "\n",
            "Forina, M. et al, PARVUS - \n",
            "An Extendible Package for Data Exploration, Classification and Correlation. \n",
            "Institute of Pharmaceutical and Food Analysis and Technologies,\n",
            "Via Brigata Salerno, 16147 Genoa, Italy.\n",
            "\n",
            "Citation:\n",
            "\n",
            "Lichman, M. (2013). UCI Machine Learning Repository\n",
            "[https://archive.ics.uci.edu/ml]. Irvine, CA: University of California,\n",
            "School of Information and Computer Science. \n",
            "\n",
            ".. topic:: References\n",
            "\n",
            "  (1) S. Aeberhard, D. Coomans and O. de Vel, \n",
            "  Comparison of Classifiers in High Dimensional Settings, \n",
            "  Tech. Rep. no. 92-02, (1992), Dept. of Computer Science and Dept. of  \n",
            "  Mathematics and Statistics, James Cook University of North Queensland. \n",
            "  (Also submitted to Technometrics). \n",
            "\n",
            "  The data was used with many others for comparing various \n",
            "  classifiers. The classes are separable, though only RDA \n",
            "  has achieved 100% correct classification. \n",
            "  (RDA : 100%, QDA 99.4%, LDA 98.9%, 1NN 96.1% (z-transformed data)) \n",
            "  (All results using the leave-one-out technique) \n",
            "\n",
            "  (2) S. Aeberhard, D. Coomans and O. de Vel, \n",
            "  \"THE CLASSIFICATION PERFORMANCE OF RDA\" \n",
            "  Tech. Rep. no. 92-01, (1992), Dept. of Computer Science and Dept. of \n",
            "  Mathematics and Statistics, James Cook University of North Queensland. \n",
            "  (Also submitted to Journal of Chemometrics).\n",
            "\n",
            "\n",
            "###Feature Names###\n",
            "\n",
            "['alcohol', 'malic_acid', 'ash', 'alcalinity_of_ash', 'magnesium', 'total_phenols', 'flavanoids', 'nonflavanoid_phenols', 'proanthocyanins', 'color_intensity', 'hue', 'od280/od315_of_diluted_wines', 'proline']\n"
          ],
          "name": "stdout"
        }
      ]
    },
    {
      "cell_type": "code",
      "metadata": {
        "id": "cY5cTWI3ZufC",
        "colab_type": "code",
        "outputId": "3172b903-83ad-4288-fae8-0b7296e9c9a6",
        "colab": {
          "base_uri": "https://localhost:8080/",
          "height": 938
        }
      },
      "source": [
        "X = pd.DataFrame(wine_raw_data['data'], columns=wine_raw_data['feature_names'])\n",
        "\n",
        "print('\\n###Shape of X###\\n')\n",
        "print(X.shape)\n",
        "\n",
        "print('\\n###Description of X###\\n')\n",
        "#print(X.describe())\n",
        "print(X[['alcohol', 'malic_acid', 'ash','alcalinity_of_ash', 'magnesium']].describe())\n",
        "print('\\n\\n')\n",
        "print(X[['total_phenols', 'flavanoids', 'nonflavanoid_phenols','proanthocyanins', 'color_intensity']].describe())\n",
        "print('\\n\\n')\n",
        "print(X[['hue', 'od280/od315_of_diluted_wines', 'proline']].describe())\n",
        "\n",
        "X.head()"
      ],
      "execution_count": 4,
      "outputs": [
        {
          "output_type": "stream",
          "text": [
            "\n",
            "###Shape of X###\n",
            "\n",
            "(178, 13)\n",
            "\n",
            "###Description of X###\n",
            "\n",
            "          alcohol  malic_acid         ash  alcalinity_of_ash   magnesium\n",
            "count  178.000000  178.000000  178.000000         178.000000  178.000000\n",
            "mean    13.000618    2.336348    2.366517          19.494944   99.741573\n",
            "std      0.811827    1.117146    0.274344           3.339564   14.282484\n",
            "min     11.030000    0.740000    1.360000          10.600000   70.000000\n",
            "25%     12.362500    1.602500    2.210000          17.200000   88.000000\n",
            "50%     13.050000    1.865000    2.360000          19.500000   98.000000\n",
            "75%     13.677500    3.082500    2.557500          21.500000  107.000000\n",
            "max     14.830000    5.800000    3.230000          30.000000  162.000000\n",
            "\n",
            "\n",
            "\n",
            "       total_phenols  flavanoids  ...  proanthocyanins  color_intensity\n",
            "count     178.000000  178.000000  ...       178.000000       178.000000\n",
            "mean        2.295112    2.029270  ...         1.590899         5.058090\n",
            "std         0.625851    0.998859  ...         0.572359         2.318286\n",
            "min         0.980000    0.340000  ...         0.410000         1.280000\n",
            "25%         1.742500    1.205000  ...         1.250000         3.220000\n",
            "50%         2.355000    2.135000  ...         1.555000         4.690000\n",
            "75%         2.800000    2.875000  ...         1.950000         6.200000\n",
            "max         3.880000    5.080000  ...         3.580000        13.000000\n",
            "\n",
            "[8 rows x 5 columns]\n",
            "\n",
            "\n",
            "\n",
            "              hue  od280/od315_of_diluted_wines      proline\n",
            "count  178.000000                    178.000000   178.000000\n",
            "mean     0.957449                      2.611685   746.893258\n",
            "std      0.228572                      0.709990   314.907474\n",
            "min      0.480000                      1.270000   278.000000\n",
            "25%      0.782500                      1.937500   500.500000\n",
            "50%      0.965000                      2.780000   673.500000\n",
            "75%      1.120000                      3.170000   985.000000\n",
            "max      1.710000                      4.000000  1680.000000\n"
          ],
          "name": "stdout"
        },
        {
          "output_type": "execute_result",
          "data": {
            "text/html": [
              "<div>\n",
              "<style scoped>\n",
              "    .dataframe tbody tr th:only-of-type {\n",
              "        vertical-align: middle;\n",
              "    }\n",
              "\n",
              "    .dataframe tbody tr th {\n",
              "        vertical-align: top;\n",
              "    }\n",
              "\n",
              "    .dataframe thead th {\n",
              "        text-align: right;\n",
              "    }\n",
              "</style>\n",
              "<table border=\"1\" class=\"dataframe\">\n",
              "  <thead>\n",
              "    <tr style=\"text-align: right;\">\n",
              "      <th></th>\n",
              "      <th>alcohol</th>\n",
              "      <th>malic_acid</th>\n",
              "      <th>ash</th>\n",
              "      <th>alcalinity_of_ash</th>\n",
              "      <th>magnesium</th>\n",
              "      <th>total_phenols</th>\n",
              "      <th>flavanoids</th>\n",
              "      <th>nonflavanoid_phenols</th>\n",
              "      <th>proanthocyanins</th>\n",
              "      <th>color_intensity</th>\n",
              "      <th>hue</th>\n",
              "      <th>od280/od315_of_diluted_wines</th>\n",
              "      <th>proline</th>\n",
              "    </tr>\n",
              "  </thead>\n",
              "  <tbody>\n",
              "    <tr>\n",
              "      <th>0</th>\n",
              "      <td>14.23</td>\n",
              "      <td>1.71</td>\n",
              "      <td>2.43</td>\n",
              "      <td>15.6</td>\n",
              "      <td>127.0</td>\n",
              "      <td>2.80</td>\n",
              "      <td>3.06</td>\n",
              "      <td>0.28</td>\n",
              "      <td>2.29</td>\n",
              "      <td>5.64</td>\n",
              "      <td>1.04</td>\n",
              "      <td>3.92</td>\n",
              "      <td>1065.0</td>\n",
              "    </tr>\n",
              "    <tr>\n",
              "      <th>1</th>\n",
              "      <td>13.20</td>\n",
              "      <td>1.78</td>\n",
              "      <td>2.14</td>\n",
              "      <td>11.2</td>\n",
              "      <td>100.0</td>\n",
              "      <td>2.65</td>\n",
              "      <td>2.76</td>\n",
              "      <td>0.26</td>\n",
              "      <td>1.28</td>\n",
              "      <td>4.38</td>\n",
              "      <td>1.05</td>\n",
              "      <td>3.40</td>\n",
              "      <td>1050.0</td>\n",
              "    </tr>\n",
              "    <tr>\n",
              "      <th>2</th>\n",
              "      <td>13.16</td>\n",
              "      <td>2.36</td>\n",
              "      <td>2.67</td>\n",
              "      <td>18.6</td>\n",
              "      <td>101.0</td>\n",
              "      <td>2.80</td>\n",
              "      <td>3.24</td>\n",
              "      <td>0.30</td>\n",
              "      <td>2.81</td>\n",
              "      <td>5.68</td>\n",
              "      <td>1.03</td>\n",
              "      <td>3.17</td>\n",
              "      <td>1185.0</td>\n",
              "    </tr>\n",
              "    <tr>\n",
              "      <th>3</th>\n",
              "      <td>14.37</td>\n",
              "      <td>1.95</td>\n",
              "      <td>2.50</td>\n",
              "      <td>16.8</td>\n",
              "      <td>113.0</td>\n",
              "      <td>3.85</td>\n",
              "      <td>3.49</td>\n",
              "      <td>0.24</td>\n",
              "      <td>2.18</td>\n",
              "      <td>7.80</td>\n",
              "      <td>0.86</td>\n",
              "      <td>3.45</td>\n",
              "      <td>1480.0</td>\n",
              "    </tr>\n",
              "    <tr>\n",
              "      <th>4</th>\n",
              "      <td>13.24</td>\n",
              "      <td>2.59</td>\n",
              "      <td>2.87</td>\n",
              "      <td>21.0</td>\n",
              "      <td>118.0</td>\n",
              "      <td>2.80</td>\n",
              "      <td>2.69</td>\n",
              "      <td>0.39</td>\n",
              "      <td>1.82</td>\n",
              "      <td>4.32</td>\n",
              "      <td>1.04</td>\n",
              "      <td>2.93</td>\n",
              "      <td>735.0</td>\n",
              "    </tr>\n",
              "  </tbody>\n",
              "</table>\n",
              "</div>"
            ],
            "text/plain": [
              "   alcohol  malic_acid   ash  ...   hue  od280/od315_of_diluted_wines  proline\n",
              "0    14.23        1.71  2.43  ...  1.04                          3.92   1065.0\n",
              "1    13.20        1.78  2.14  ...  1.05                          3.40   1050.0\n",
              "2    13.16        2.36  2.67  ...  1.03                          3.17   1185.0\n",
              "3    14.37        1.95  2.50  ...  0.86                          3.45   1480.0\n",
              "4    13.24        2.59  2.87  ...  1.04                          2.93    735.0\n",
              "\n",
              "[5 rows x 13 columns]"
            ]
          },
          "metadata": {
            "tags": []
          },
          "execution_count": 4
        }
      ]
    },
    {
      "cell_type": "code",
      "metadata": {
        "id": "0YSMtDW1btos",
        "colab_type": "code",
        "outputId": "218a9dee-1a51-40fc-89db-a1707cb892ce",
        "colab": {
          "base_uri": "https://localhost:8080/",
          "height": 255
        }
      },
      "source": [
        "y = pd.Series(wine_raw_data['target'])\n",
        "\n",
        "print('###Shape of y###')\n",
        "print(y.shape)\n",
        "\n",
        "print(y.head())\n",
        "print(y.tail())"
      ],
      "execution_count": 5,
      "outputs": [
        {
          "output_type": "stream",
          "text": [
            "###Shape of y###\n",
            "(178,)\n",
            "0    0\n",
            "1    0\n",
            "2    0\n",
            "3    0\n",
            "4    0\n",
            "dtype: int64\n",
            "173    2\n",
            "174    2\n",
            "175    2\n",
            "176    2\n",
            "177    2\n",
            "dtype: int64\n"
          ],
          "name": "stdout"
        }
      ]
    },
    {
      "cell_type": "markdown",
      "metadata": {
        "id": "GZwBKqYDbiQE",
        "colab_type": "text"
      },
      "source": [
        "# Train / Test Split"
      ]
    },
    {
      "cell_type": "code",
      "metadata": {
        "id": "4bAqXUmNa_pl",
        "colab_type": "code",
        "outputId": "c1dd6b42-605d-4736-844b-c7a4c23a939f",
        "colab": {
          "base_uri": "https://localhost:8080/",
          "height": 51
        }
      },
      "source": [
        "X_train, X_test, y_train, y_test = train_test_split(X, y, test_size=.2, shuffle=True, random_state=42)\n",
        "\n",
        "print(f\"X_train shape: {X_train.shape}, y_train shape: {y_train.shape}\")\n",
        "print(f\"X_test shape: {X_test.shape}, y_test shape: {y_test.shape}\")"
      ],
      "execution_count": 6,
      "outputs": [
        {
          "output_type": "stream",
          "text": [
            "X_train shape: (142, 13), y_train shape: (142,)\n",
            "X_test shape: (36, 13), y_test shape: (36,)\n"
          ],
          "name": "stdout"
        }
      ]
    },
    {
      "cell_type": "markdown",
      "metadata": {
        "id": "CBTFc2WHeBGo",
        "colab_type": "text"
      },
      "source": [
        "\n",
        "# Designing a Classifier"
      ]
    },
    {
      "cell_type": "markdown",
      "metadata": {
        "id": "99YriBCcujCu",
        "colab_type": "text"
      },
      "source": [
        "For this problem, we'll create a decision tree classifier. Take a look at [Scikit Learn's excellent documentation](https://scikit-learn.org/stable/modules/tree.html#tree) to get an overview of how they work."
      ]
    },
    {
      "cell_type": "code",
      "metadata": {
        "id": "jrmzGfBpbkrO",
        "colab_type": "code",
        "colab": {}
      },
      "source": [
        "tree_classifier = DecisionTreeClassifier()"
      ],
      "execution_count": 0,
      "outputs": []
    },
    {
      "cell_type": "markdown",
      "metadata": {
        "id": "5kxQA4OnuvSI",
        "colab_type": "text"
      },
      "source": [
        "Scikit Learn makes this look deceptively simple. In reality there are quite a lot of design decisions, dictated by a bunch of characters, that we are implicitly making here. See the [documentation](https://scikit-learn.org/stable/modules/generated/sklearn.tree.DecisionTreeClassifier.html#sklearn.tree.DecisionTreeClassifier) for available parameters."
      ]
    },
    {
      "cell_type": "markdown",
      "metadata": {
        "id": "ZZD0i8tup6Ct",
        "colab_type": "text"
      },
      "source": [
        "# Training"
      ]
    },
    {
      "cell_type": "code",
      "metadata": {
        "id": "_GDLy38mdRNE",
        "colab_type": "code",
        "outputId": "a142d701-1686-4f4f-b409-b56e54cf40f1",
        "colab": {
          "base_uri": "https://localhost:8080/",
          "height": 796
        }
      },
      "source": [
        "tree_classifier.fit(X_train, y_train)\n",
        "\n",
        "fig, ax = plot.subplots(figsize=(20,10))\n",
        "sklearn.tree.plot_tree(tree_classifier, fontsize=14, ax=ax)"
      ],
      "execution_count": 17,
      "outputs": [
        {
          "output_type": "execute_result",
          "data": {
            "text/plain": [
              "[Text(558.0, 489.24, 'X[9] <= 3.82\\ngini = 0.659\\nsamples = 142\\nvalue = [45, 57, 40]'),\n",
              " Text(334.79999999999995, 380.52000000000004, 'X[12] <= 1002.5\\ngini = 0.109\\nsamples = 52\\nvalue = [3, 49, 0]'),\n",
              " Text(223.2, 271.8, 'X[2] <= 3.07\\ngini = 0.039\\nsamples = 50\\nvalue = [1, 49, 0]'),\n",
              " Text(111.6, 163.08000000000004, 'gini = 0.0\\nsamples = 49\\nvalue = [0, 49, 0]'),\n",
              " Text(334.79999999999995, 163.08000000000004, 'gini = 0.0\\nsamples = 1\\nvalue = [1, 0, 0]'),\n",
              " Text(446.4, 271.8, 'gini = 0.0\\nsamples = 2\\nvalue = [2, 0, 0]'),\n",
              " Text(781.1999999999999, 380.52000000000004, 'X[6] <= 1.4\\ngini = 0.577\\nsamples = 90\\nvalue = [42, 8, 40]'),\n",
              " Text(669.5999999999999, 271.8, 'gini = 0.0\\nsamples = 40\\nvalue = [0, 0, 40]'),\n",
              " Text(892.8, 271.8, 'X[12] <= 724.5\\ngini = 0.269\\nsamples = 50\\nvalue = [42, 8, 0]'),\n",
              " Text(781.1999999999999, 163.08000000000004, 'X[1] <= 3.92\\ngini = 0.198\\nsamples = 9\\nvalue = [1, 8, 0]'),\n",
              " Text(669.5999999999999, 54.360000000000014, 'gini = 0.0\\nsamples = 8\\nvalue = [0, 8, 0]'),\n",
              " Text(892.8, 54.360000000000014, 'gini = 0.0\\nsamples = 1\\nvalue = [1, 0, 0]'),\n",
              " Text(1004.4, 163.08000000000004, 'gini = 0.0\\nsamples = 41\\nvalue = [41, 0, 0]')]"
            ]
          },
          "metadata": {
            "tags": []
          },
          "execution_count": 17
        },
        {
          "output_type": "display_data",
          "data": {
            "image/png": "[encoded data removed]",
            "text/plain": [
              "<Figure size 1440x720 with 1 Axes>"
            ]
          },
          "metadata": {
            "tags": []
          }
        }
      ]
    },
    {
      "cell_type": "markdown",
      "metadata": {
        "id": "-Nrrl9dwp-DA",
        "colab_type": "text"
      },
      "source": [
        "# Evaluation"
      ]
    },
    {
      "cell_type": "code",
      "metadata": {
        "id": "16-OFgWWdTTS",
        "colab_type": "code",
        "colab": {
          "base_uri": "https://localhost:8080/",
          "height": 51
        },
        "outputId": "4b38640e-7f82-4d73-c4e4-ed069986ae5f"
      },
      "source": [
        "y_pred = tree_classifier.predict(X_test)\n",
        "\n",
        "print('###Predictions###')\n",
        "print(y_pred)"
      ],
      "execution_count": 19,
      "outputs": [
        {
          "output_type": "stream",
          "text": [
            "###Predictions###\n",
            "[0 0 2 0 1 0 1 2 1 2 1 1 0 1 0 1 1 1 0 1 0 1 1 2 2 2 1 1 1 0 0 1 2 0 0 0]\n"
          ],
          "name": "stdout"
        }
      ]
    },
    {
      "cell_type": "code",
      "metadata": {
        "id": "d1Y-KneqdW-R",
        "colab_type": "code",
        "outputId": "2e911e71-fa27-4fd6-fb2b-63f4c60d3d70",
        "colab": {
          "base_uri": "https://localhost:8080/",
          "height": 136
        }
      },
      "source": [
        "print(f'Accuracy: {accuracy_score(y_test, y_pred)}')\n",
        "print(f'Precision: {precision_score(y_test, y_pred, average=None)}')\n",
        "print(f'Recall: {recall_score(y_test, y_pred, average=None)}')\n",
        "print()\n",
        "print(f'Weighted Precision: {precision_score(y_test, y_pred, average=\"weighted\")}') \n",
        "print(f'Weighted Recall: {recall_score(y_test, y_pred, average=\"weighted\")}')"
      ],
      "execution_count": 24,
      "outputs": [
        {
          "output_type": "stream",
          "text": [
            "Jaccard Score: [0.92857143 0.875      0.875     ]\n",
            "Accuracy: 0.9444444444444444\n",
            "Precision: [1.    0.875 1.   ]\n",
            "Recall: [0.92857143 1.         0.875     ]\n",
            "\n",
            "Weighted Precision: 0.9513888888888888\n",
            "Weighted Recall: 0.9444444444444444\n"
          ],
          "name": "stdout"
        }
      ]
    },
    {
      "cell_type": "markdown",
      "metadata": {
        "id": "WvhZf6GFjz4m",
        "colab_type": "text"
      },
      "source": [
        "Choosing the correct evaluation metric for a given task is not at all trivial. See [the dangers of performance metrics](http://www.stefanmesken.info/data-science/metrics/)."
      ]
    },
    {
      "cell_type": "markdown",
      "metadata": {
        "id": "pQzphtUigGB6",
        "colab_type": "text"
      },
      "source": [
        "# Exercise\n",
        "\n",
        "In last week's briefing, our client informed us that she doesn't care about the distinction of `class_1` and `class_2` wine after all. You're asked to design a decision tree that distinguishes `class_0` wine from the rest with 97% accuracy on the test set.\n",
        "\n",
        "## Challenges\n",
        "\n",
        "1.   Achieve 99.5% accuracy on the test set with a classifier of your choice.\n",
        "2.   Learn about how decision trees actually learn and prepare a 5-10 minute presentation on the matter.\n",
        "3.   Learn about how one might measure the importance of the various input features in a dataset. For instance, using random forests.\n",
        "4.   Find or create a dataset that decision trees perform terribly at (where 'terribly' is left vague intentionally).\n",
        "\n"
      ]
    },
    {
      "cell_type": "code",
      "metadata": {
        "id": "lQHTQ25_kaDt",
        "colab_type": "code",
        "colab": {}
      },
      "source": [
        ""
      ],
      "execution_count": 0,
      "outputs": []
    }
  ]
}